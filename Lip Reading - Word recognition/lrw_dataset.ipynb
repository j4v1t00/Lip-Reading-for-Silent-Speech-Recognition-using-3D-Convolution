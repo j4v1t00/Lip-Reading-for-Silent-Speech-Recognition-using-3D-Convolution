{
 "cells": [
  {
   "cell_type": "code",
   "execution_count": 1,
   "id": "a315481d-6546-4d62-912e-9a0e28581654",
   "metadata": {},
   "outputs": [],
   "source": [
    "import shutil\n",
    "import glob\n",
    "\n",
    "# Lista todos los archivos que coinciden con el patrón lrs2_v1_parta*\n",
    "archivos = glob.glob('lrw-v1-parta*')\n",
    "\n",
    "# Copia cada archivo a un archivo de destino, en este caso lrs2_v1.tar\n",
    "with open('lrw-v1.tar', 'wb') as destino:\n",
    "    for archivo in archivos:\n",
    "        with open(archivo, 'rb') as origen:\n",
    "            shutil.copyfileobj(origen, destino)"
   ]
  },
  {
   "cell_type": "code",
   "execution_count": 2,
   "id": "9ca1ad2c-a903-487b-9769-fc21e919cd63",
   "metadata": {},
   "outputs": [],
   "source": [
    "import tarfile\n",
    "\n",
    "# Especifica la ruta al archivo tar\n",
    "archivo_tar = 'lrw-v1.tar'\n",
    "\n",
    "# Abre el archivo tar en modo lectura\n",
    "with tarfile.open(archivo_tar, 'r') as tar:\n",
    "    # Extrae todos los miembros del archivo tar en el directorio actual\n",
    "    tar.extractall()"
   ]
  },
  {
   "cell_type": "code",
   "execution_count": null,
   "id": "5467bd06-8b19-4d79-b4b3-d436e346d2ff",
   "metadata": {},
   "outputs": [],
   "source": []
  }
 ],
 "metadata": {
  "kernelspec": {
   "display_name": "Python 3 (ipykernel)",
   "language": "python",
   "name": "python3"
  },
  "language_info": {
   "codemirror_mode": {
    "name": "ipython",
    "version": 3
   },
   "file_extension": ".py",
   "mimetype": "text/x-python",
   "name": "python",
   "nbconvert_exporter": "python",
   "pygments_lexer": "ipython3",
   "version": "3.11.7"
  }
 },
 "nbformat": 4,
 "nbformat_minor": 5
}
