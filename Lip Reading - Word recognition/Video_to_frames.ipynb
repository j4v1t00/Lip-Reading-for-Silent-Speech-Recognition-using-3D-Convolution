{
 "cells": [
  {
   "cell_type": "markdown",
   "id": "d1b7abe4-5564-40d1-87d3-8aa03b6ac665",
   "metadata": {},
   "source": [
    "# Extracción de los clips de la carpeta Demo"
   ]
  },
  {
   "cell_type": "code",
   "execution_count": 1,
   "id": "5e408db8-1893-441d-b1da-dbec806ae671",
   "metadata": {},
   "outputs": [],
   "source": [
    "import cv2\n",
    "import mediapipe as mp\n",
    "import numpy as np\n",
    "import os\n",
    "import pandas as pd"
   ]
  },
  {
   "cell_type": "markdown",
   "id": "390deaad-cabb-4ea4-8260-4c2b061117dd",
   "metadata": {},
   "source": [
    "## Obtenim els segons que duren cada clip"
   ]
  },
  {
   "cell_type": "code",
   "execution_count": null,
   "id": "82f7f791-eed1-4fb5-af80-cdea89247d45",
   "metadata": {},
   "outputs": [],
   "source": [
    "import os\n",
    "import cv2\n",
    "\n",
    "carpeta_principal = 'lipread_mp4_demo/'\n",
    "\n",
    "seconds_file = []\n",
    "seconds_list = []\n",
    "for entrada in os.listdir(carpeta_principal):\n",
    "    ruta_absoluta = os.path.join(carpeta_principal, entrada)\n",
    "    # Verifica si la entrada es una carpeta\n",
    "    if os.path.isdir(ruta_absoluta):\n",
    "        # Ruta de la carpeta que contiene las imágenes\n",
    "        carpeta_1 = carpeta_principal + entrada\n",
    "         # Itera sobre todos los archivos en la carpeta\n",
    "        for subcarpeta in os.listdir(carpeta_1):\n",
    "            # Itera sobre todas las carpetas test, train y val\n",
    "            carpeta_2 = carpeta_1+'/'+subcarpeta\n",
    "            for archivo in os.listdir(carpeta_2):\n",
    "                # Verifica si el archivo es '.txt'\n",
    "                if archivo.endswith('.txt'):\n",
    "                    ruta_imagen_txt = os.path.join(carpeta_2, archivo)\n",
    "                    # Leemos línea por línea el '.txt'\n",
    "                    with open(ruta_imagen_txt, \"r\") as file:\n",
    "                        lines = file.readlines()\n",
    "                        # Accedemos a la línea número 5 y extraemos las letras de la posición 10 hasta la 13\n",
    "                        seconds = lines[4][10:14]\n",
    "                        seconds_file.append(float(seconds))\n",
    "        seconds_list.append(seconds_file)\n",
    "        seconds_file = []"
   ]
  },
  {
   "cell_type": "markdown",
   "id": "21dc94b4-b8bc-4573-b3fc-4b5aa49a6c58",
   "metadata": {},
   "source": [
    "## Funció per extreure els clips on diuen la paraula objectiu"
   ]
  },
  {
   "cell_type": "code",
   "execution_count": null,
   "id": "ebc8d954-9d17-4aff-b844-9d535287cc0f",
   "metadata": {},
   "outputs": [],
   "source": [
    "def frames_clip_extraction(video_path):\n",
    "    import cv2\n",
    "    \n",
    "    # Abrir el video\n",
    "    cap = cv2.VideoCapture(video_path)\n",
    "    \n",
    "    # Obtener la duración del video en segundos\n",
    "    fps = cap.get(cv2.CAP_PROP_FPS)\n",
    "\n",
    "    #Duración del vídeo real\n",
    "    duration = 1.216\n",
    "    \n",
    "    # Obtener el tiempo de inicio y final del segmento que deseas extraer\n",
    "    # start_time = (duration - 0.37) / 2  # Inicio del segmento en segundos\n",
    "    start_time = round((duration - 0.37) / 2, 3)  # Redondear a 3 decimales\n",
    "    # end_time = start_time + 0.37        # Fin del segmento en segundos\n",
    "    end_time = round(start_time + 0.37, 3)  # Redondear a 3 decimales\n",
    "    \n",
    "    # Convertir el tiempo a frames\n",
    "    start_frame = int(start_time * fps)\n",
    "    end_frame = int(end_time * fps)\n",
    "    \n",
    "    # Almacenar los frames extraídos en una lista\n",
    "    frames = []\n",
    "    cap.set(cv2.CAP_PROP_POS_FRAMES, start_frame)\n",
    "    while cap.isOpened() and cap.get(cv2.CAP_PROP_POS_FRAMES) <= end_frame:\n",
    "        ret, frame = cap.read()\n",
    "        if ret:\n",
    "            frames.append(frame)\n",
    "        else:\n",
    "            break\n",
    "    \n",
    "    # Liberar recursos\n",
    "    cap.release()\n",
    "\n",
    "    return frames"
   ]
  },
  {
   "cell_type": "code",
   "execution_count": null,
   "id": "c170a70a-f126-495a-ba17-ff18376e8062",
   "metadata": {},
   "outputs": [],
   "source": [
    "frames_clip = []\n",
    "frames_clips_list = []\n",
    "\n",
    "for entrada in os.listdir(carpeta_principal):\n",
    "    ruta_absoluta = os.path.join(carpeta_principal, entrada)\n",
    "    # Verifica si la entrada es una carpeta\n",
    "    if os.path.isdir(ruta_absoluta):\n",
    "        # Ruta de la carpeta que contiene las imágenes\n",
    "        carpeta_1 = carpeta_principal + entrada\n",
    "         # Itera sobre todos los archivos en la carpeta\n",
    "        for subcarpeta in os.listdir(carpeta_1):\n",
    "            # Itera sobre todas las carpetas test, train y val\n",
    "            carpeta_2 = carpeta_1+'/'+subcarpeta\n",
    "            for archivo in os.listdir(carpeta_2):\n",
    "                # Verifica si el archivo es '.mp4'\n",
    "                if archivo.endswith('.mp4'):\n",
    "                    ruta_imagen_mp4 = os.path.join(carpeta_2, archivo)\n",
    "                    # Extraemos los frames del clip de cada video\n",
    "                    frames_clip.append(frames_clip_extraction(ruta_imagen_mp4))\n",
    "        frames_clips_list.append(frames_clip)\n",
    "        frames_clip = []"
   ]
  },
  {
   "cell_type": "markdown",
   "id": "a503fdaa-8c28-43c9-999c-33567fbfd2e0",
   "metadata": {},
   "source": [
    "## Guardem els frames en una carpeta per al seu us"
   ]
  },
  {
   "cell_type": "code",
   "execution_count": null,
   "id": "ba34927d-ef34-40a7-aaef-f12ae0dbf745",
   "metadata": {},
   "outputs": [],
   "source": [
    "len_frames_clips_list = []\n",
    "for i in range(len(frames_clips_list)):\n",
    "    print(\"Longitud de la carpeta frames_clips_list[{}]: {}\".format(i, len(frames_clips_list[i])))\n",
    "    len_frames_clips_list.append(len(frames_clips_list[i]))"
   ]
  },
  {
   "cell_type": "code",
   "execution_count": null,
   "id": "439d4285-9fec-4107-b8b0-623d1a47c86c",
   "metadata": {},
   "outputs": [],
   "source": [
    "frames_lr_demo = []\n",
    "for i in range(len(frames_clips_list)):\n",
    "    for j in range(len(frames_clips_list[i])):\n",
    "        frames_lr_demo.append(frames_clips_list[i][j])"
   ]
  },
  {
   "cell_type": "code",
   "execution_count": null,
   "id": "ce0bc7ad-7912-4bc7-9daf-e8866fee472a",
   "metadata": {},
   "outputs": [],
   "source": [
    "frames_lr_demo_np = np.array(frames_lr_demo)"
   ]
  },
  {
   "cell_type": "code",
   "execution_count": null,
   "id": "b706beab-6305-4c48-a63b-898fa53c7dd8",
   "metadata": {},
   "outputs": [],
   "source": [
    "path = 'img_lipread_mp4_demo/'\n",
    "cont = 0\n",
    "for i in range(len(frames_lr_demo_np)):\n",
    "    for j in range(len(frames_lr_demo_np[i])):\n",
    "        cv2.imwrite(path + 'IMG_%06d.jpg' % cont, frames_lr_demo_np[i][j])\n",
    "        cont = cont + 1"
   ]
  }
 ],
 "metadata": {
  "kernelspec": {
   "display_name": "Python 3 (ipykernel)",
   "language": "python",
   "name": "python3"
  },
  "language_info": {
   "codemirror_mode": {
    "name": "ipython",
    "version": 3
   },
   "file_extension": ".py",
   "mimetype": "text/x-python",
   "name": "python",
   "nbconvert_exporter": "python",
   "pygments_lexer": "ipython3",
   "version": "3.11.7"
  }
 },
 "nbformat": 4,
 "nbformat_minor": 5
}
