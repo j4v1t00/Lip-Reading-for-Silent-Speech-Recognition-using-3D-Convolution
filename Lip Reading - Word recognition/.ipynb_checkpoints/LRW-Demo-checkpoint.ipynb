{
 "cells": [
  {
   "cell_type": "markdown",
   "id": "538890fd-d840-4ede-9007-53c2b9fdaf1c",
   "metadata": {},
   "source": [
    "# Extracció dels clips de la carpeta Demo"
   ]
  },
  {
   "cell_type": "markdown",
   "id": "671977c9-5ea2-4738-ae51-6d762839d3cc",
   "metadata": {},
   "source": [
    "## Obtenció de la llista de la duració de cada clip"
   ]
  },
  {
   "cell_type": "code",
   "execution_count": 1,
   "id": "489dbe13-34f4-48fe-84c0-0f1057f1a7ee",
   "metadata": {},
   "outputs": [],
   "source": [
    "import cv2\n",
    "import mediapipe as mp\n",
    "import numpy as np\n",
    "import os\n",
    "import pandas as pd"
   ]
  },
  {
   "cell_type": "code",
   "execution_count": 2,
   "id": "03e1b29b-d437-46f2-b878-5c8e68b59f25",
   "metadata": {},
   "outputs": [],
   "source": [
    "carpeta_principal = 'lipread_mp4_demo/'\n",
    "\n",
    "seconds_file = []\n",
    "seconds_list = []\n",
    "for entrada in os.listdir(carpeta_principal):\n",
    "    ruta_absoluta = os.path.join(carpeta_principal, entrada)\n",
    "    # Verifica si la entrada es una carpeta\n",
    "    if os.path.isdir(ruta_absoluta):\n",
    "        # Ruta de la carpeta que contiene las imágenes\n",
    "        carpeta_1 = carpeta_principal + entrada\n",
    "         # Itera sobre todos los archivos en la carpeta\n",
    "        for subcarpeta in os.listdir(carpeta_1):\n",
    "            # Itera sobre todas las carpetas test, train y val\n",
    "            carpeta_2 = carpeta_1+'/'+subcarpeta\n",
    "            for archivo in os.listdir(carpeta_2):\n",
    "                # Verifica si el archivo es '.txt'\n",
    "                if archivo.endswith('.txt'):\n",
    "                    ruta_imagen_txt = os.path.join(carpeta_2, archivo)\n",
    "                    # Leemos línea por línea el '.txt'\n",
    "                    with open(ruta_imagen_txt, \"r\") as file:\n",
    "                        lines = file.readlines()\n",
    "                        # Accedemos a la línea número 5 y extraemos las letras de la posición 10 hasta la 13\n",
    "                        seconds = lines[4][10:14]\n",
    "                        seconds_file.append(float(seconds))\n",
    "        seconds_list.append(seconds_file)\n",
    "        seconds_file = []"
   ]
  },
  {
   "cell_type": "code",
   "execution_count": 3,
   "id": "2a8164b3-49e8-4fc0-b138-d5ce7136dadb",
   "metadata": {},
   "outputs": [],
   "source": [
    "def frames_clip_extraction(video_path):\n",
    "    import cv2\n",
    "    \n",
    "    # Abrir el video\n",
    "    cap = cv2.VideoCapture(video_path)\n",
    "    \n",
    "    # Obtener la duración del video en segundos\n",
    "    fps = cap.get(cv2.CAP_PROP_FPS)\n",
    "\n",
    "    #Duración del vídeo real\n",
    "    duration = 1.216\n",
    "    \n",
    "    # Obtener el tiempo de inicio y final del segmento que deseas extraer\n",
    "    # start_time = (duration - 0.37) / 2  # Inicio del segmento en segundos\n",
    "    start_time = round((duration - 0.37) / 2, 3)  # Redondear a 3 decimales\n",
    "    # end_time = start_time + 0.37        # Fin del segmento en segundos\n",
    "    end_time = round(start_time + 0.37, 3)  # Redondear a 3 decimales\n",
    "    \n",
    "    # Convertir el tiempo a frames\n",
    "    start_frame = int(start_time * fps)\n",
    "    end_frame = int(end_time * fps)\n",
    "    \n",
    "    # Almacenar los frames extraídos en una lista\n",
    "    frames = []\n",
    "    cap.set(cv2.CAP_PROP_POS_FRAMES, start_frame)\n",
    "    while cap.isOpened() and cap.get(cv2.CAP_PROP_POS_FRAMES) <= end_frame:\n",
    "        ret, frame = cap.read()\n",
    "        if ret:\n",
    "            frames.append(frame)\n",
    "        else:\n",
    "            break\n",
    "    \n",
    "    # Liberar recursos\n",
    "    cap.release()\n",
    "\n",
    "    return frames"
   ]
  },
  {
   "cell_type": "code",
   "execution_count": 4,
   "id": "3ca12ead-4ff5-455f-a703-febd85e3045e",
   "metadata": {},
   "outputs": [],
   "source": [
    "frames_clip = []\n",
    "frames_clips_list = []\n",
    "\n",
    "for entrada in os.listdir(carpeta_principal):\n",
    "    ruta_absoluta = os.path.join(carpeta_principal, entrada)\n",
    "    # Verifica si la entrada es una carpeta\n",
    "    if os.path.isdir(ruta_absoluta):\n",
    "        # Ruta de la carpeta que contiene las imágenes\n",
    "        carpeta_1 = carpeta_principal + entrada\n",
    "         # Itera sobre todos los archivos en la carpeta\n",
    "        for subcarpeta in os.listdir(carpeta_1):\n",
    "            # Itera sobre todas las carpetas test, train y val\n",
    "            carpeta_2 = carpeta_1+'/'+subcarpeta\n",
    "            for archivo in os.listdir(carpeta_2):\n",
    "                # Verifica si el archivo es '.txt'\n",
    "                if archivo.endswith('.mp4'):\n",
    "                    ruta_imagen_mp4 = os.path.join(carpeta_2, archivo)\n",
    "                    # Extraemos los frames del clip de cada video\n",
    "                    frames_clip.append(frames_clip_extraction(ruta_imagen_mp4))\n",
    "        frames_clips_list.append(frames_clip)\n",
    "        frames_clip = []"
   ]
  },
  {
   "cell_type": "code",
   "execution_count": 5,
   "id": "3b210fb8-9435-4722-9d84-39e8220fc637",
   "metadata": {},
   "outputs": [
    {
     "name": "stdout",
     "output_type": "stream",
     "text": [
      "Longitud de la carpeta frames_clips_list[0]: 1100\n",
      "Longitud de la carpeta frames_clips_list[1]: 953\n",
      "Longitud de la carpeta frames_clips_list[2]: 1100\n",
      "Longitud de la carpeta frames_clips_list[3]: 1100\n",
      "Longitud de la carpeta frames_clips_list[4]: 1100\n",
      "Longitud de la carpeta frames_clips_list[5]: 1100\n",
      "Longitud de la carpeta frames_clips_list[6]: 1100\n",
      "Longitud de la carpeta frames_clips_list[7]: 1054\n",
      "Longitud de la carpeta frames_clips_list[8]: 934\n",
      "Longitud de la carpeta frames_clips_list[9]: 1100\n"
     ]
    }
   ],
   "source": [
    "len_frames_clips_list = []\n",
    "for i in range(len(frames_clips_list)):\n",
    "    print(\"Longitud de la carpeta frames_clips_list[{}]: {}\".format(i, len(frames_clips_list[i])))\n",
    "    len_frames_clips_list.append(len(frames_clips_list[i]))"
   ]
  },
  {
   "cell_type": "code",
   "execution_count": 6,
   "id": "e3ea5848-0e4b-4722-8d55-f09713cc6f34",
   "metadata": {},
   "outputs": [],
   "source": [
    "# cv2.imshow(\"Frame\", frames_clips_list[0][0][0])\n",
    "# # Esperar hasta que se presione una tecla y luego cerrar la ventana\n",
    "# cv2.waitKey(0)\n",
    "# cv2.destroyAllWindows()"
   ]
  },
  {
   "cell_type": "code",
   "execution_count": 7,
   "id": "ac66a8d8-d61f-429b-999e-85961a6056b4",
   "metadata": {},
   "outputs": [
    {
     "name": "stdout",
     "output_type": "stream",
     "text": [
      "Num. de palabras: 10\n",
      "Num. de videos por palabra: 1100\n",
      "Num. de Frames: 10\n",
      "Medidas de la imagen: 256\n",
      "Medidas de la imagen: 256\n",
      "Inf. del pixel: 3\n"
     ]
    }
   ],
   "source": [
    "print(\"Num. de palabras:\", len(frames_clips_list))\n",
    "print(\"Num. de videos por palabra:\", len(frames_clips_list[0]))\n",
    "print(\"Num. de Frames:\", len(frames_clips_list[0][0]))\n",
    "print(\"Medidas de la imagen:\", len(frames_clips_list[0][0][0]))\n",
    "print(\"Medidas de la imagen:\", len(frames_clips_list[0][0][0][0]))\n",
    "print(\"Inf. del pixel:\", len(frames_clips_list[0][0][0][0][0]))"
   ]
  },
  {
   "cell_type": "code",
   "execution_count": 8,
   "id": "912cfdcf-59db-48e3-8573-12cd0602ea75",
   "metadata": {},
   "outputs": [],
   "source": [
    "frames_lr_demo = []\n",
    "for i in range(len(frames_clips_list)):\n",
    "    for j in range(len(frames_clips_list[i])):\n",
    "        frames_lr_demo.append(frames_clips_list[i][j])"
   ]
  },
  {
   "cell_type": "code",
   "execution_count": 9,
   "id": "4ecda68b-9d86-4d92-9090-b4e9b209045e",
   "metadata": {},
   "outputs": [
    {
     "data": {
      "text/plain": [
       "10641"
      ]
     },
     "execution_count": 9,
     "metadata": {},
     "output_type": "execute_result"
    }
   ],
   "source": [
    "len(frames_lr_demo)"
   ]
  },
  {
   "cell_type": "code",
   "execution_count": 19,
   "id": "ab1dea5c-382a-456a-9b00-1705274da3bd",
   "metadata": {},
   "outputs": [],
   "source": [
    "frames_lr_demo_np = np.array(frames_lr_demo)"
   ]
  },
  {
   "cell_type": "code",
   "execution_count": 26,
   "id": "5b2eb491-96ce-409c-8d38-d3a5cee8bd21",
   "metadata": {},
   "outputs": [],
   "source": [
    "path = 'img_lipread_mp4_demo/'\n",
    "cont = 0\n",
    "for i in range(len(frames_lr_demo_np)):\n",
    "    for j in range(len(frames_lr_demo_np[i])):\n",
    "        cv2.imwrite(path + 'IMG_%06d.jpg' % cont, frames_lr_demo_np[i][j])\n",
    "        cont = cont + 1"
   ]
  },
  {
   "cell_type": "code",
   "execution_count": 12,
   "id": "3979488a-b235-4584-9db7-4ec215337807",
   "metadata": {},
   "outputs": [],
   "source": [
    "import cv2\n",
    "import mediapipe as mp\n",
    "import numpy as np\n",
    "import os\n",
    "import pandas as pd\n",
    "\n",
    "mp_face_mesh = mp.solutions.face_mesh\n",
    "mp_drawing = mp.solutions.drawing_utils\n",
    "index_lips = [61, 76, 62, 78, \n",
    "              185, 184, 183, 191, 95, 96, 77, 146, \n",
    "              40, 74, 42, 80, 88, 89, 90, 91, \n",
    "              39, 73, 41, 81, 178, 179, 180, 181, \n",
    "              37, 72, 38, 82, 87, 86, 85, 84,\n",
    "              0, 11, 12, 13, 14, 15, 16, 17,\n",
    "              267, 302, 268, 312, 317, 316, 315, 314, \n",
    "              269, 303, 271, 311, 402, 403, 404, 405, \n",
    "              270, 304, 272, 310, 318, 319, 320, 321, \n",
    "              409, 408, 407, 415, 324, 325, 307, 375, \n",
    "              308, 292, 306, 291]\n",
    "index_eyes = [159, 386]\n",
    "\n",
    "vocales_info_b = []\n",
    "frames_lip_info_b = []\n",
    "file_frames_lip_info_b = []\n",
    "\n",
    "eyes_info = []\n",
    "frames_eyes_info = []\n",
    "file_frames_eyes_info = []\n",
    "\n",
    "\n",
    "for i in range(len(frames_clips_list)):\n",
    "    for j in range(len(frames_clips_list[i])):\n",
    "        for k in range(len(frames_clips_list[i][j])):\n",
    "            with mp_face_mesh.FaceMesh(static_image_mode=True, max_num_faces=1, min_detection_confidence=0.5) as face_mesh:\n",
    "                lip_info_b = []\n",
    "                eyes_info = 0\n",
    "                image = frames_clips_list[i][j][k]\n",
    "                height, width, _ = image.shape\n",
    "                image_rgb = cv2.cvtColor(image, cv2.COLOR_BGR2RGB)\n",
    "                results = face_mesh.process(image_rgb)\n",
    "        \n",
    "                if results.multi_face_landmarks is not None:\n",
    "                    for face_landmarks in results.multi_face_landmarks:\n",
    "                        for index in index_lips:\n",
    "                            #lip_info.append(face_landmarks.landmark[index])\n",
    "                            lip_info_b.append([face_landmarks.landmark[index].x, face_landmarks.landmark[index].y])\n",
    "                        for index in index_eyes:\n",
    "                            eyes_info = [face_landmarks.landmark[index].x, face_landmarks.landmark[index].y]\n",
    "        \n",
    "                pos_x = []\n",
    "                pos_y = []\n",
    "                for aux in lip_info_b:\n",
    "                    pos_x.append(aux[0])\n",
    "                    pos_y.append(aux[1])\n",
    "        \n",
    "                aux_x = np.mean(pos_x)\n",
    "                aux_y = np.mean(pos_y)\n",
    "                lip_info_b.append([aux_x, aux_y])\n",
    "                \n",
    "            frames_lip_info_b.append(lip_info_b)\n",
    "            frames_eyes_info.append(eyes_info)\n",
    "            \n",
    "        file_frames_lip_info_b.append(frames_lip_info_b)\n",
    "        file_frames_eyes_info.append(frames_eyes_info)\n",
    "        frames_lip_info_b = []\n",
    "        frames_eyes_info = []"
   ]
  },
  {
   "cell_type": "code",
   "execution_count": 13,
   "id": "889c8493-6798-4b0b-bb8e-50ed262792ff",
   "metadata": {},
   "outputs": [],
   "source": [
    "file_frames_lip_info_b_np = np.array(file_frames_lip_info_b)\n",
    "file_frames_eyes_info_np = np.array(file_frames_eyes_info)"
   ]
  },
  {
   "cell_type": "code",
   "execution_count": 14,
   "id": "db99803d-47e4-47cd-8350-fb7afc2c62b7",
   "metadata": {},
   "outputs": [],
   "source": [
    "# Guardar en un archivo .npy\n",
    "np.save('file_frames_lip_info_b_np.npy', file_frames_lip_info_b_np)\n",
    "np.save('file_frames_eyes_info_np.npy', file_frames_eyes_info_np)"
   ]
  },
  {
   "cell_type": "code",
   "execution_count": 15,
   "id": "31ca7bba-a239-4753-8b87-e0090636646e",
   "metadata": {},
   "outputs": [],
   "source": [
    "# Cargar el archivo .npy en una variable\n",
    "file_frames_lip_info_b_np = np.load('file_frames_lip_info_b_np.npy')\n",
    "file_frames_eyes_info_np = np.load('file_frames_eyes_info_np.npy')"
   ]
  },
  {
   "cell_type": "code",
   "execution_count": 16,
   "id": "54326229-b49b-48d7-a79b-3944f2e33314",
   "metadata": {},
   "outputs": [],
   "source": [
    "len_frames_clips_list = [1100, 953, 1100 ,1100 ,1100 ,1100 , 1100 ,1054 ,934, 1100]\n",
    "# Calcular los índices acumulados\n",
    "indices = np.cumsum(len_frames_clips_list)[:-1]  # Ignorar el último índice ya que no necesitamos dividir allí\n",
    "# Dividir el array en las longitudes especificadas\n",
    "aux_file_frames_lip_info_b_np = file_frames_lip_info_b_np\n",
    "aux_file_frames_eyes_info_np = file_frames_eyes_info_np\n",
    "aux_file_frames_lip_info_b_np = np.split(aux_file_frames_lip_info_b_np, indices)\n",
    "aux_file_frames_eyes_info_np = np.split(aux_file_frames_eyes_info_np, indices)"
   ]
  },
  {
   "cell_type": "code",
   "execution_count": 17,
   "id": "63893576-f1a5-4c67-9a3c-06b03923f80f",
   "metadata": {},
   "outputs": [
    {
     "name": "stdout",
     "output_type": "stream",
     "text": [
      "Longitud de la carpeta frames_clips_list[0]: 1100\n",
      "Longitud de la carpeta frames_clips_list[1]: 953\n",
      "Longitud de la carpeta frames_clips_list[2]: 1100\n",
      "Longitud de la carpeta frames_clips_list[3]: 1100\n",
      "Longitud de la carpeta frames_clips_list[4]: 1100\n",
      "Longitud de la carpeta frames_clips_list[5]: 1100\n",
      "Longitud de la carpeta frames_clips_list[6]: 1100\n",
      "Longitud de la carpeta frames_clips_list[7]: 1054\n",
      "Longitud de la carpeta frames_clips_list[8]: 934\n",
      "Longitud de la carpeta frames_clips_list[9]: 1100\n"
     ]
    }
   ],
   "source": [
    "for i in range(len(aux_file_frames_lip_info_b_np)):\n",
    "    print(\"Longitud de la carpeta frames_clips_list[{}]: {}\".format(i, len(aux_file_frames_lip_info_b_np[i])))"
   ]
  },
  {
   "cell_type": "code",
   "execution_count": 28,
   "id": "f2f03016-e14e-4a82-a761-191cd6643f0f",
   "metadata": {},
   "outputs": [],
   "source": [
    "Y = []\n",
    "aux = 0\n",
    "for i in len_frames_clips_list:\n",
    "    for j in range(i):\n",
    "        Y.append(aux)\n",
    "    aux = aux + 1"
   ]
  },
  {
   "cell_type": "code",
   "execution_count": 34,
   "id": "d6c64400-75c7-4d5e-8efd-a13a7e78b333",
   "metadata": {},
   "outputs": [
    {
     "data": {
      "text/plain": [
       "10641"
      ]
     },
     "execution_count": 34,
     "metadata": {},
     "output_type": "execute_result"
    }
   ],
   "source": [
    "len(Y)"
   ]
  },
  {
   "cell_type": "code",
   "execution_count": 35,
   "id": "09ad5b32-d518-4a88-97d0-87562fd807e1",
   "metadata": {},
   "outputs": [],
   "source": [
    "Y = np.array(Y)\n",
    "Y = np.split(Y, indices)"
   ]
  },
  {
   "cell_type": "code",
   "execution_count": 36,
   "id": "6b4b2644-a2ac-4b9a-b093-33c986697d47",
   "metadata": {},
   "outputs": [
    {
     "name": "stdout",
     "output_type": "stream",
     "text": [
      "Longitud de la carpeta frames_clips_list[0]: 1100\n",
      "Longitud de la carpeta frames_clips_list[1]: 953\n",
      "Longitud de la carpeta frames_clips_list[2]: 1100\n",
      "Longitud de la carpeta frames_clips_list[3]: 1100\n",
      "Longitud de la carpeta frames_clips_list[4]: 1100\n",
      "Longitud de la carpeta frames_clips_list[5]: 1100\n",
      "Longitud de la carpeta frames_clips_list[6]: 1100\n",
      "Longitud de la carpeta frames_clips_list[7]: 1054\n",
      "Longitud de la carpeta frames_clips_list[8]: 934\n",
      "Longitud de la carpeta frames_clips_list[9]: 1100\n"
     ]
    }
   ],
   "source": [
    "for i in range(len(Y)):\n",
    "    print(\"Longitud de la carpeta frames_clips_list[{}]: {}\".format(i, len(Y[i])))"
   ]
  },
  {
   "cell_type": "code",
   "execution_count": 37,
   "id": "2a2ae701-5fef-4e6d-96bc-6fa6b5e83a4e",
   "metadata": {},
   "outputs": [
    {
     "name": "stdout",
     "output_type": "stream",
     "text": [
      "81\n",
      "2\n",
      "10\n",
      "10\n",
      "10641\n",
      "10641\n"
     ]
    }
   ],
   "source": [
    "print(len(file_frames_lip_info_b_np[0][0]))\n",
    "print(len(file_frames_eyes_info_np[0][0]))\n",
    "print(len(file_frames_lip_info_b_np[0]))\n",
    "print(len(file_frames_eyes_info_np[0]))\n",
    "print(len(file_frames_lip_info_b_np))\n",
    "print(len(file_frames_eyes_info_np))"
   ]
  },
  {
   "cell_type": "code",
   "execution_count": 38,
   "id": "3140b56c-3d1d-4109-b7a0-64372b7115ab",
   "metadata": {},
   "outputs": [
    {
     "data": {
      "text/plain": [
       "array([0.61968613, 0.3467122 ])"
      ]
     },
     "execution_count": 38,
     "metadata": {},
     "output_type": "execute_result"
    }
   ],
   "source": [
    "file_frames_eyes_info_np[0][0]"
   ]
  },
  {
   "cell_type": "code",
   "execution_count": 39,
   "id": "6d202919-039c-447b-a37c-300e89f956d7",
   "metadata": {},
   "outputs": [],
   "source": [
    "coordenada_central = 80\n",
    "distancia_media_ojos = 63 #En milimetros\n",
    "dist_info = []\n",
    "aux = []\n",
    "for i in range(len(file_frames_lip_info_b_np)):\n",
    "    for j in range(len(file_frames_lip_info_b_np[i])):\n",
    "        aux_2 = []\n",
    "        distancia_ojos = np.linalg.norm(file_frames_eyes_info_np[i][j][0] - file_frames_eyes_info_np[i][j][1])\n",
    "        escala_ojos = distancia_media_ojos / distancia_ojos\n",
    "        for k in range(len(file_frames_lip_info_b_np[i][j]) - 1):\n",
    "            distancia = np.linalg.norm(file_frames_lip_info_b_np[i][j][k] - file_frames_lip_info_b_np[i][j][coordenada_central])\n",
    "            aux_2.append(distancia * escala_ojos)\n",
    "        aux.append(aux_2)\n",
    "    dist_info.append(aux)\n",
    "    aux = []"
   ]
  },
  {
   "cell_type": "code",
   "execution_count": 40,
   "id": "a7281b34-a0b9-43a3-a605-7056a0769d84",
   "metadata": {},
   "outputs": [
    {
     "data": {
      "text/plain": [
       "10641"
      ]
     },
     "execution_count": 40,
     "metadata": {},
     "output_type": "execute_result"
    }
   ],
   "source": [
    "len(dist_info)"
   ]
  },
  {
   "cell_type": "code",
   "execution_count": 41,
   "id": "24b8eb41-586b-410b-8fdf-54be9f026286",
   "metadata": {},
   "outputs": [],
   "source": [
    "Y = []\n",
    "for i in range(len(len_frames_clips_list)):\n",
    "    for j in range(len_frames_clips_list[i]):\n",
    "        Y.append(i)"
   ]
  },
  {
   "cell_type": "code",
   "execution_count": 42,
   "id": "3f24f14e-42a8-4076-b0a1-e6969ff8870e",
   "metadata": {},
   "outputs": [
    {
     "data": {
      "text/plain": [
       "10641"
      ]
     },
     "execution_count": 42,
     "metadata": {},
     "output_type": "execute_result"
    }
   ],
   "source": [
    "len(Y)"
   ]
  },
  {
   "cell_type": "code",
   "execution_count": 43,
   "id": "ce5666f7-debc-41b7-8603-c37387d320eb",
   "metadata": {},
   "outputs": [],
   "source": [
    "X_np = np.array(dist_info)\n",
    "Y_np = np.array(Y)"
   ]
  },
  {
   "cell_type": "code",
   "execution_count": 44,
   "id": "9a7d1e0d-f434-4423-b39d-509266b2eeff",
   "metadata": {},
   "outputs": [
    {
     "name": "stdout",
     "output_type": "stream",
     "text": [
      "(10641, 10, 80)\n",
      "(10641,)\n"
     ]
    }
   ],
   "source": [
    "print(X_np.shape)\n",
    "print(Y_np.shape)"
   ]
  },
  {
   "cell_type": "code",
   "execution_count": 45,
   "id": "c1ceaafc-975b-4f8b-a1ce-9c03244a0df1",
   "metadata": {},
   "outputs": [
    {
     "name": "stderr",
     "output_type": "stream",
     "text": [
      "C:\\Users\\javit\\AppData\\Local\\anaconda3\\Lib\\site-packages\\keras\\src\\layers\\rnn\\rnn.py:204: UserWarning: Do not pass an `input_shape`/`input_dim` argument to a layer. When using Sequential models, prefer using an `Input(shape)` object as the first layer in the model instead.\n",
      "  super().__init__(**kwargs)\n"
     ]
    },
    {
     "data": {
      "text/html": [
       "<pre style=\"white-space:pre;overflow-x:auto;line-height:normal;font-family:Menlo,'DejaVu Sans Mono',consolas,'Courier New',monospace\"><span style=\"font-weight: bold\">Model: \"sequential\"</span>\n",
       "</pre>\n"
      ],
      "text/plain": [
       "\u001b[1mModel: \"sequential\"\u001b[0m\n"
      ]
     },
     "metadata": {},
     "output_type": "display_data"
    },
    {
     "data": {
      "text/html": [
       "<pre style=\"white-space:pre;overflow-x:auto;line-height:normal;font-family:Menlo,'DejaVu Sans Mono',consolas,'Courier New',monospace\">┏━━━━━━━━━━━━━━━━━━━━━━━━━━━━━━━━━━━━━━┳━━━━━━━━━━━━━━━━━━━━━━━━━━━━━┳━━━━━━━━━━━━━━━━━┓\n",
       "┃<span style=\"font-weight: bold\"> Layer (type)                         </span>┃<span style=\"font-weight: bold\"> Output Shape                </span>┃<span style=\"font-weight: bold\">         Param # </span>┃\n",
       "┡━━━━━━━━━━━━━━━━━━━━━━━━━━━━━━━━━━━━━━╇━━━━━━━━━━━━━━━━━━━━━━━━━━━━━╇━━━━━━━━━━━━━━━━━┩\n",
       "│ lstm (<span style=\"color: #0087ff; text-decoration-color: #0087ff\">LSTM</span>)                          │ (<span style=\"color: #00d7ff; text-decoration-color: #00d7ff\">None</span>, <span style=\"color: #00af00; text-decoration-color: #00af00\">10</span>, <span style=\"color: #00af00; text-decoration-color: #00af00\">128</span>)             │         <span style=\"color: #00af00; text-decoration-color: #00af00\">107,008</span> │\n",
       "├──────────────────────────────────────┼─────────────────────────────┼─────────────────┤\n",
       "│ dropout (<span style=\"color: #0087ff; text-decoration-color: #0087ff\">Dropout</span>)                    │ (<span style=\"color: #00d7ff; text-decoration-color: #00d7ff\">None</span>, <span style=\"color: #00af00; text-decoration-color: #00af00\">10</span>, <span style=\"color: #00af00; text-decoration-color: #00af00\">128</span>)             │               <span style=\"color: #00af00; text-decoration-color: #00af00\">0</span> │\n",
       "├──────────────────────────────────────┼─────────────────────────────┼─────────────────┤\n",
       "│ lstm_1 (<span style=\"color: #0087ff; text-decoration-color: #0087ff\">LSTM</span>)                        │ (<span style=\"color: #00d7ff; text-decoration-color: #00d7ff\">None</span>, <span style=\"color: #00af00; text-decoration-color: #00af00\">128</span>)                 │         <span style=\"color: #00af00; text-decoration-color: #00af00\">131,584</span> │\n",
       "├──────────────────────────────────────┼─────────────────────────────┼─────────────────┤\n",
       "│ dropout_1 (<span style=\"color: #0087ff; text-decoration-color: #0087ff\">Dropout</span>)                  │ (<span style=\"color: #00d7ff; text-decoration-color: #00d7ff\">None</span>, <span style=\"color: #00af00; text-decoration-color: #00af00\">128</span>)                 │               <span style=\"color: #00af00; text-decoration-color: #00af00\">0</span> │\n",
       "├──────────────────────────────────────┼─────────────────────────────┼─────────────────┤\n",
       "│ dense (<span style=\"color: #0087ff; text-decoration-color: #0087ff\">Dense</span>)                        │ (<span style=\"color: #00d7ff; text-decoration-color: #00d7ff\">None</span>, <span style=\"color: #00af00; text-decoration-color: #00af00\">64</span>)                  │           <span style=\"color: #00af00; text-decoration-color: #00af00\">8,256</span> │\n",
       "├──────────────────────────────────────┼─────────────────────────────┼─────────────────┤\n",
       "│ dense_1 (<span style=\"color: #0087ff; text-decoration-color: #0087ff\">Dense</span>)                      │ (<span style=\"color: #00d7ff; text-decoration-color: #00d7ff\">None</span>, <span style=\"color: #00af00; text-decoration-color: #00af00\">10</span>)                  │             <span style=\"color: #00af00; text-decoration-color: #00af00\">650</span> │\n",
       "└──────────────────────────────────────┴─────────────────────────────┴─────────────────┘\n",
       "</pre>\n"
      ],
      "text/plain": [
       "┏━━━━━━━━━━━━━━━━━━━━━━━━━━━━━━━━━━━━━━┳━━━━━━━━━━━━━━━━━━━━━━━━━━━━━┳━━━━━━━━━━━━━━━━━┓\n",
       "┃\u001b[1m \u001b[0m\u001b[1mLayer (type)                        \u001b[0m\u001b[1m \u001b[0m┃\u001b[1m \u001b[0m\u001b[1mOutput Shape               \u001b[0m\u001b[1m \u001b[0m┃\u001b[1m \u001b[0m\u001b[1m        Param #\u001b[0m\u001b[1m \u001b[0m┃\n",
       "┡━━━━━━━━━━━━━━━━━━━━━━━━━━━━━━━━━━━━━━╇━━━━━━━━━━━━━━━━━━━━━━━━━━━━━╇━━━━━━━━━━━━━━━━━┩\n",
       "│ lstm (\u001b[38;5;33mLSTM\u001b[0m)                          │ (\u001b[38;5;45mNone\u001b[0m, \u001b[38;5;34m10\u001b[0m, \u001b[38;5;34m128\u001b[0m)             │         \u001b[38;5;34m107,008\u001b[0m │\n",
       "├──────────────────────────────────────┼─────────────────────────────┼─────────────────┤\n",
       "│ dropout (\u001b[38;5;33mDropout\u001b[0m)                    │ (\u001b[38;5;45mNone\u001b[0m, \u001b[38;5;34m10\u001b[0m, \u001b[38;5;34m128\u001b[0m)             │               \u001b[38;5;34m0\u001b[0m │\n",
       "├──────────────────────────────────────┼─────────────────────────────┼─────────────────┤\n",
       "│ lstm_1 (\u001b[38;5;33mLSTM\u001b[0m)                        │ (\u001b[38;5;45mNone\u001b[0m, \u001b[38;5;34m128\u001b[0m)                 │         \u001b[38;5;34m131,584\u001b[0m │\n",
       "├──────────────────────────────────────┼─────────────────────────────┼─────────────────┤\n",
       "│ dropout_1 (\u001b[38;5;33mDropout\u001b[0m)                  │ (\u001b[38;5;45mNone\u001b[0m, \u001b[38;5;34m128\u001b[0m)                 │               \u001b[38;5;34m0\u001b[0m │\n",
       "├──────────────────────────────────────┼─────────────────────────────┼─────────────────┤\n",
       "│ dense (\u001b[38;5;33mDense\u001b[0m)                        │ (\u001b[38;5;45mNone\u001b[0m, \u001b[38;5;34m64\u001b[0m)                  │           \u001b[38;5;34m8,256\u001b[0m │\n",
       "├──────────────────────────────────────┼─────────────────────────────┼─────────────────┤\n",
       "│ dense_1 (\u001b[38;5;33mDense\u001b[0m)                      │ (\u001b[38;5;45mNone\u001b[0m, \u001b[38;5;34m10\u001b[0m)                  │             \u001b[38;5;34m650\u001b[0m │\n",
       "└──────────────────────────────────────┴─────────────────────────────┴─────────────────┘\n"
      ]
     },
     "metadata": {},
     "output_type": "display_data"
    },
    {
     "data": {
      "text/html": [
       "<pre style=\"white-space:pre;overflow-x:auto;line-height:normal;font-family:Menlo,'DejaVu Sans Mono',consolas,'Courier New',monospace\"><span style=\"font-weight: bold\"> Total params: </span><span style=\"color: #00af00; text-decoration-color: #00af00\">247,498</span> (966.79 KB)\n",
       "</pre>\n"
      ],
      "text/plain": [
       "\u001b[1m Total params: \u001b[0m\u001b[38;5;34m247,498\u001b[0m (966.79 KB)\n"
      ]
     },
     "metadata": {},
     "output_type": "display_data"
    },
    {
     "data": {
      "text/html": [
       "<pre style=\"white-space:pre;overflow-x:auto;line-height:normal;font-family:Menlo,'DejaVu Sans Mono',consolas,'Courier New',monospace\"><span style=\"font-weight: bold\"> Trainable params: </span><span style=\"color: #00af00; text-decoration-color: #00af00\">247,498</span> (966.79 KB)\n",
       "</pre>\n"
      ],
      "text/plain": [
       "\u001b[1m Trainable params: \u001b[0m\u001b[38;5;34m247,498\u001b[0m (966.79 KB)\n"
      ]
     },
     "metadata": {},
     "output_type": "display_data"
    },
    {
     "data": {
      "text/html": [
       "<pre style=\"white-space:pre;overflow-x:auto;line-height:normal;font-family:Menlo,'DejaVu Sans Mono',consolas,'Courier New',monospace\"><span style=\"font-weight: bold\"> Non-trainable params: </span><span style=\"color: #00af00; text-decoration-color: #00af00\">0</span> (0.00 B)\n",
       "</pre>\n"
      ],
      "text/plain": [
       "\u001b[1m Non-trainable params: \u001b[0m\u001b[38;5;34m0\u001b[0m (0.00 B)\n"
      ]
     },
     "metadata": {},
     "output_type": "display_data"
    }
   ],
   "source": [
    "import numpy as np\n",
    "import tensorflow as tf\n",
    "from tensorflow.keras.models import Sequential\n",
    "from tensorflow.keras.layers import LSTM, GRU, Dense, Dropout\n",
    "from tensorflow.keras.utils import to_categorical\n",
    "from sklearn.model_selection import train_test_split\n",
    "\n",
    "# Convertir las etiquetas a one-hot encoding\n",
    "num_classes = 10\n",
    "y_data = to_categorical(Y_np, num_classes)\n",
    "\n",
    "# Dividir los datos en conjuntos de entrenamiento y prueba\n",
    "X_train, X_test, y_train, y_test = train_test_split(X_np, y_data, test_size=0.2, random_state=42)\n",
    "\n",
    "# Definir el modelo\n",
    "model = Sequential()\n",
    "model.add(LSTM(128, input_shape=(10, 80), return_sequences=True))\n",
    "model.add(Dropout(0.2))\n",
    "model.add(LSTM(128))\n",
    "model.add(Dropout(0.2))\n",
    "model.add(Dense(64, activation='relu'))\n",
    "model.add(Dense(num_classes, activation='softmax'))\n",
    "\n",
    "# Compilar el modelo\n",
    "model.compile(optimizer='adam', loss='mean_squared_error', metrics=['accuracy'])\n",
    "\n",
    "# Resumen del modelo\n",
    "model.summary()"
   ]
  },
  {
   "cell_type": "code",
   "execution_count": 46,
   "id": "59c5d9eb-d8d7-4f9c-b96f-c884acf1e809",
   "metadata": {},
   "outputs": [
    {
     "name": "stdout",
     "output_type": "stream",
     "text": [
      "8512\n",
      "2129\n",
      "8512\n",
      "2129\n"
     ]
    }
   ],
   "source": [
    "print(len(X_train))\n",
    "print(len(X_test))\n",
    "print(len(y_train))\n",
    "print(len(y_test))"
   ]
  },
  {
   "cell_type": "code",
   "execution_count": 47,
   "id": "67311f69-bcea-4bc2-9026-597689ff9420",
   "metadata": {},
   "outputs": [
    {
     "name": "stdout",
     "output_type": "stream",
     "text": [
      "Epoch 1/20\n",
      "\u001b[1m213/213\u001b[0m \u001b[32m━━━━━━━━━━━━━━━━━━━━\u001b[0m\u001b[37m\u001b[0m \u001b[1m9s\u001b[0m 19ms/step - accuracy: 0.1043 - loss: 0.0901 - val_accuracy: 0.1057 - val_loss: 0.0900\n",
      "Epoch 2/20\n",
      "\u001b[1m213/213\u001b[0m \u001b[32m━━━━━━━━━━━━━━━━━━━━\u001b[0m\u001b[37m\u001b[0m \u001b[1m3s\u001b[0m 15ms/step - accuracy: 0.1043 - loss: 0.0900 - val_accuracy: 0.1080 - val_loss: 0.0900\n",
      "Epoch 3/20\n",
      "\u001b[1m213/213\u001b[0m \u001b[32m━━━━━━━━━━━━━━━━━━━━\u001b[0m\u001b[37m\u001b[0m \u001b[1m3s\u001b[0m 14ms/step - accuracy: 0.1055 - loss: 0.0900 - val_accuracy: 0.1033 - val_loss: 0.0900\n",
      "Epoch 4/20\n",
      "\u001b[1m213/213\u001b[0m \u001b[32m━━━━━━━━━━━━━━━━━━━━\u001b[0m\u001b[37m\u001b[0m \u001b[1m3s\u001b[0m 15ms/step - accuracy: 0.1064 - loss: 0.0900 - val_accuracy: 0.1033 - val_loss: 0.0900\n",
      "Epoch 5/20\n",
      "\u001b[1m213/213\u001b[0m \u001b[32m━━━━━━━━━━━━━━━━━━━━\u001b[0m\u001b[37m\u001b[0m \u001b[1m3s\u001b[0m 15ms/step - accuracy: 0.1132 - loss: 0.0900 - val_accuracy: 0.1086 - val_loss: 0.0900\n",
      "Epoch 6/20\n",
      "\u001b[1m213/213\u001b[0m \u001b[32m━━━━━━━━━━━━━━━━━━━━\u001b[0m\u001b[37m\u001b[0m \u001b[1m3s\u001b[0m 14ms/step - accuracy: 0.1067 - loss: 0.0900 - val_accuracy: 0.1033 - val_loss: 0.0899\n",
      "Epoch 7/20\n",
      "\u001b[1m213/213\u001b[0m \u001b[32m━━━━━━━━━━━━━━━━━━━━\u001b[0m\u001b[37m\u001b[0m \u001b[1m3s\u001b[0m 15ms/step - accuracy: 0.1055 - loss: 0.0900 - val_accuracy: 0.1033 - val_loss: 0.0900\n",
      "Epoch 8/20\n",
      "\u001b[1m213/213\u001b[0m \u001b[32m━━━━━━━━━━━━━━━━━━━━\u001b[0m\u001b[37m\u001b[0m \u001b[1m3s\u001b[0m 15ms/step - accuracy: 0.1046 - loss: 0.0900 - val_accuracy: 0.1033 - val_loss: 0.0900\n",
      "Epoch 9/20\n",
      "\u001b[1m213/213\u001b[0m \u001b[32m━━━━━━━━━━━━━━━━━━━━\u001b[0m\u001b[37m\u001b[0m \u001b[1m3s\u001b[0m 16ms/step - accuracy: 0.0994 - loss: 0.0900 - val_accuracy: 0.1022 - val_loss: 0.0900\n",
      "Epoch 10/20\n",
      "\u001b[1m213/213\u001b[0m \u001b[32m━━━━━━━━━━━━━━━━━━━━\u001b[0m\u001b[37m\u001b[0m \u001b[1m4s\u001b[0m 17ms/step - accuracy: 0.1129 - loss: 0.0900 - val_accuracy: 0.1033 - val_loss: 0.0900\n",
      "Epoch 11/20\n",
      "\u001b[1m213/213\u001b[0m \u001b[32m━━━━━━━━━━━━━━━━━━━━\u001b[0m\u001b[37m\u001b[0m \u001b[1m4s\u001b[0m 17ms/step - accuracy: 0.1092 - loss: 0.0900 - val_accuracy: 0.1033 - val_loss: 0.0900\n",
      "Epoch 12/20\n",
      "\u001b[1m213/213\u001b[0m \u001b[32m━━━━━━━━━━━━━━━━━━━━\u001b[0m\u001b[37m\u001b[0m \u001b[1m3s\u001b[0m 14ms/step - accuracy: 0.1013 - loss: 0.0900 - val_accuracy: 0.1033 - val_loss: 0.0900\n",
      "Epoch 13/20\n",
      "\u001b[1m213/213\u001b[0m \u001b[32m━━━━━━━━━━━━━━━━━━━━\u001b[0m\u001b[37m\u001b[0m \u001b[1m3s\u001b[0m 15ms/step - accuracy: 0.1150 - loss: 0.0900 - val_accuracy: 0.1033 - val_loss: 0.0900\n",
      "Epoch 14/20\n",
      "\u001b[1m213/213\u001b[0m \u001b[32m━━━━━━━━━━━━━━━━━━━━\u001b[0m\u001b[37m\u001b[0m \u001b[1m3s\u001b[0m 15ms/step - accuracy: 0.1083 - loss: 0.0900 - val_accuracy: 0.1033 - val_loss: 0.0900\n",
      "Epoch 15/20\n",
      "\u001b[1m213/213\u001b[0m \u001b[32m━━━━━━━━━━━━━━━━━━━━\u001b[0m\u001b[37m\u001b[0m \u001b[1m3s\u001b[0m 14ms/step - accuracy: 0.1100 - loss: 0.0900 - val_accuracy: 0.1033 - val_loss: 0.0900\n",
      "Epoch 16/20\n",
      "\u001b[1m213/213\u001b[0m \u001b[32m━━━━━━━━━━━━━━━━━━━━\u001b[0m\u001b[37m\u001b[0m \u001b[1m3s\u001b[0m 15ms/step - accuracy: 0.1121 - loss: 0.0899 - val_accuracy: 0.1033 - val_loss: 0.0900\n",
      "Epoch 17/20\n",
      "\u001b[1m213/213\u001b[0m \u001b[32m━━━━━━━━━━━━━━━━━━━━\u001b[0m\u001b[37m\u001b[0m \u001b[1m3s\u001b[0m 14ms/step - accuracy: 0.1062 - loss: 0.0900 - val_accuracy: 0.1033 - val_loss: 0.0900\n",
      "Epoch 18/20\n",
      "\u001b[1m213/213\u001b[0m \u001b[32m━━━━━━━━━━━━━━━━━━━━\u001b[0m\u001b[37m\u001b[0m \u001b[1m3s\u001b[0m 13ms/step - accuracy: 0.1097 - loss: 0.0900 - val_accuracy: 0.1033 - val_loss: 0.0900\n",
      "Epoch 19/20\n",
      "\u001b[1m213/213\u001b[0m \u001b[32m━━━━━━━━━━━━━━━━━━━━\u001b[0m\u001b[37m\u001b[0m \u001b[1m3s\u001b[0m 13ms/step - accuracy: 0.1095 - loss: 0.0900 - val_accuracy: 0.1033 - val_loss: 0.0900\n",
      "Epoch 20/20\n",
      "\u001b[1m213/213\u001b[0m \u001b[32m━━━━━━━━━━━━━━━━━━━━\u001b[0m\u001b[37m\u001b[0m \u001b[1m3s\u001b[0m 16ms/step - accuracy: 0.0972 - loss: 0.0900 - val_accuracy: 0.1033 - val_loss: 0.0900\n"
     ]
    }
   ],
   "source": [
    "# Entrenar el modelo\n",
    "history = model.fit(X_train, y_train, epochs=20, batch_size=32, validation_split=0.2)"
   ]
  },
  {
   "cell_type": "code",
   "execution_count": 48,
   "id": "0292845f-851e-4304-b211-0150bf7934bb",
   "metadata": {},
   "outputs": [
    {
     "name": "stdout",
     "output_type": "stream",
     "text": [
      "\u001b[1m67/67\u001b[0m \u001b[32m━━━━━━━━━━━━━━━━━━━━\u001b[0m\u001b[37m\u001b[0m \u001b[1m0s\u001b[0m 5ms/step - accuracy: 0.1043 - loss: 0.0900\n",
      "Loss: 0.08999709039926529\n",
      "Accuracy: 0.09159229695796967\n"
     ]
    }
   ],
   "source": [
    "# Evaluar el modelo en el conjunto de prueba\n",
    "loss, accuracy = model.evaluate(X_test, y_test)\n",
    "print(f'Loss: {loss}')\n",
    "print(f'Accuracy: {accuracy}')\n"
   ]
  },
  {
   "cell_type": "code",
   "execution_count": 50,
   "id": "87a3fd8f-f8e2-4feb-8f07-1e4f0b8ad331",
   "metadata": {},
   "outputs": [
    {
     "data": {
      "image/png": "[encoded data removed]",
      "text/plain": [
       "<Figure size 640x480 with 1 Axes>"
      ]
     },
     "metadata": {},
     "output_type": "display_data"
    }
   ],
   "source": [
    "import matplotlib.pyplot as plt\n",
    "\n",
    "# Visualización de resultados\n",
    "plt.plot(history.history['accuracy'], label='Accuracy')\n",
    "plt.plot(history.history['val_accuracy'], label='Validation Accuracy')\n",
    "plt.xlabel('Epoch')\n",
    "plt.ylabel('Accuracy')\n",
    "plt.legend()\n",
    "plt.show()"
   ]
  },
  {
   "cell_type": "code",
   "execution_count": 51,
   "id": "1574a6f2-8f6c-43a0-9519-d9dc57e3eb00",
   "metadata": {},
   "outputs": [
    {
     "name": "stdout",
     "output_type": "stream",
     "text": [
      "\u001b[1m67/67\u001b[0m \u001b[32m━━━━━━━━━━━━━━━━━━━━\u001b[0m\u001b[37m\u001b[0m \u001b[1m1s\u001b[0m 10ms/step\n"
     ]
    },
    {
     "data": {
      "image/png": "[encoded data removed]",
      "text/plain": [
       "<Figure size 1000x700 with 2 Axes>"
      ]
     },
     "metadata": {},
     "output_type": "display_data"
    },
    {
     "name": "stdout",
     "output_type": "stream",
     "text": [
      "Classification Report:\n",
      "              precision    recall  f1-score   support\n",
      "\n",
      "           0       0.00      0.00      0.00       223\n",
      "           1       0.00      0.00      0.00       187\n",
      "           2       0.00      0.00      0.00       219\n",
      "           3       0.00      0.00      0.00       223\n",
      "           4       0.00      0.00      0.00       213\n",
      "           5       0.00      0.00      0.00       235\n",
      "           6       0.00      0.00      0.00       210\n",
      "           7       0.00      0.00      0.00       237\n",
      "           8       0.00      0.00      0.00       187\n",
      "           9       0.09      1.00      0.17       195\n",
      "\n",
      "    accuracy                           0.09      2129\n",
      "   macro avg       0.01      0.10      0.02      2129\n",
      "weighted avg       0.01      0.09      0.02      2129\n",
      "\n"
     ]
    },
    {
     "name": "stderr",
     "output_type": "stream",
     "text": [
      "C:\\Users\\javit\\AppData\\Local\\anaconda3\\Lib\\site-packages\\sklearn\\metrics\\_classification.py:1344: UndefinedMetricWarning: Precision and F-score are ill-defined and being set to 0.0 in labels with no predicted samples. Use `zero_division` parameter to control this behavior.\n",
      "  _warn_prf(average, modifier, msg_start, len(result))\n",
      "C:\\Users\\javit\\AppData\\Local\\anaconda3\\Lib\\site-packages\\sklearn\\metrics\\_classification.py:1344: UndefinedMetricWarning: Precision and F-score are ill-defined and being set to 0.0 in labels with no predicted samples. Use `zero_division` parameter to control this behavior.\n",
      "  _warn_prf(average, modifier, msg_start, len(result))\n",
      "C:\\Users\\javit\\AppData\\Local\\anaconda3\\Lib\\site-packages\\sklearn\\metrics\\_classification.py:1344: UndefinedMetricWarning: Precision and F-score are ill-defined and being set to 0.0 in labels with no predicted samples. Use `zero_division` parameter to control this behavior.\n",
      "  _warn_prf(average, modifier, msg_start, len(result))\n"
     ]
    }
   ],
   "source": [
    "from sklearn.metrics import confusion_matrix, classification_report\n",
    "import seaborn as sns\n",
    "import matplotlib.pyplot as plt\n",
    "\n",
    "# Obtener las predicciones\n",
    "y_pred = model.predict(X_test)\n",
    "y_pred_classes = np.argmax(y_pred, axis=1)\n",
    "y_true = np.argmax(y_test, axis=1)\n",
    "\n",
    "# Calcular la matriz de confusión\n",
    "conf_matrix = confusion_matrix(y_true, y_pred_classes)\n",
    "\n",
    "# Mostrar la matriz de confusión\n",
    "plt.figure(figsize=(10, 7))\n",
    "sns.heatmap(conf_matrix, annot=True, fmt='d', cmap='Blues')\n",
    "plt.xlabel('Predicted')\n",
    "plt.ylabel('Actual')\n",
    "plt.title('Confusion Matrix')\n",
    "plt.show()\n",
    "\n",
    "# Imprimir el reporte de clasificación\n",
    "class_report = classification_report(y_true, y_pred_classes)\n",
    "print(\"Classification Report:\")\n",
    "print(class_report)\n"
   ]
  },
  {
   "cell_type": "code",
   "execution_count": null,
   "id": "3e36d46d-338d-4f88-9a22-0dd30e400820",
   "metadata": {},
   "outputs": [],
   "source": []
  }
 ],
 "metadata": {
  "kernelspec": {
   "display_name": "Python 3 (ipykernel)",
   "language": "python",
   "name": "python3"
  },
  "language_info": {
   "codemirror_mode": {
    "name": "ipython",
    "version": 3
   },
   "file_extension": ".py",
   "mimetype": "text/x-python",
   "name": "python",
   "nbconvert_exporter": "python",
   "pygments_lexer": "ipython3",
   "version": "3.11.7"
  }
 },
 "nbformat": 4,
 "nbformat_minor": 5
}
