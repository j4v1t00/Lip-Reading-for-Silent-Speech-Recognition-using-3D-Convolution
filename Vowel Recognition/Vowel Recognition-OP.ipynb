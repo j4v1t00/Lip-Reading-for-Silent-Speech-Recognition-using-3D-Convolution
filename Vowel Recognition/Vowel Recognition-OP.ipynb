{
 "cells": [
  {
   "cell_type": "markdown",
   "id": "6fc17e37-3424-4b99-9ffd-ea66e32fa937",
   "metadata": {},
   "source": [
    "### Llibreries"
   ]
  },
  {
   "cell_type": "code",
   "execution_count": 1,
   "id": "7c4d3522",
   "metadata": {},
   "outputs": [],
   "source": [
    "import cv2\n",
    "import mediapipe as mp\n",
    "import numpy as np\n",
    "import os\n",
    "import pandas as pd\n",
    "import joblib\n",
    "\n",
    "from joblib import dump\n",
    "from sklearn.model_selection import train_test_split\n",
    "from sklearn.model_selection import cross_val_score\n",
    "from sklearn.svm import SVC\n",
    "from sklearn.metrics import accuracy_score\n",
    "from sklearn.model_selection import GridSearchCV\n",
    "from sklearn.ensemble import RandomForestClassifier"
   ]
  },
  {
   "cell_type": "markdown",
   "id": "3ae2509f-e100-45ee-937c-d84fdf3b946d",
   "metadata": {},
   "source": [
    "### Funcions"
   ]
  },
  {
   "cell_type": "markdown",
   "id": "6da0c376-6349-41bf-a814-d001e95dd207",
   "metadata": {},
   "source": [
    "Inicialitzem i guardem les funcions per fer el face mesh. El 'index_lips' són tots els punts que defineixen els llavis."
   ]
  },
  {
   "cell_type": "code",
   "execution_count": 2,
   "id": "bbcf4420-db6d-4b20-ae81-594e9b0e751b",
   "metadata": {},
   "outputs": [],
   "source": [
    "mp_face_mesh = mp.solutions.face_mesh\n",
    "mp_drawing = mp.solutions.drawing_utils\n",
    "mp_face_detection = mp.solutions.face_detection\n",
    "index_lips = [61, 76, 62, 78, \n",
    "              185, 184, 183, 191, 95, 96, 77, 146, \n",
    "              40, 74, 42, 80, 88, 89, 90, 91, \n",
    "              39, 73, 41, 81, 178, 179, 180, 181, \n",
    "              37, 72, 38, 82, 87, 86, 85, 84,\n",
    "              0, 11, 12, 13, 14, 15, 16, 17,\n",
    "              267, 302, 268, 312, 317, 316, 315, 314, \n",
    "              269, 303, 271, 311, 402, 403, 404, 405, \n",
    "              270, 304, 272, 310, 318, 319, 320, 321, \n",
    "              409, 408, 407, 415, 324, 325, 307, 375, \n",
    "              308, 292, 306, 291]"
   ]
  },
  {
   "cell_type": "markdown",
   "id": "0a657bf3-e219-4ec9-986f-70fd1c955389",
   "metadata": {},
   "source": [
    "## Vowel Recognition utilitzant 'Orthographic projection' per a les distancies"
   ]
  },
  {
   "cell_type": "markdown",
   "id": "31fa3fe2-a5cb-4de6-a2b5-63faf602a330",
   "metadata": {},
   "source": [
    "### Creació del dataset"
   ]
  },
  {
   "cell_type": "markdown",
   "id": "207b90bb-c9c0-41af-b7bc-356012684a92",
   "metadata": {},
   "source": [
    "En aquesta part cal puntualitzar que estic utilitzant la carpeta 'img_webcam' perquè és més petita, ja que si utilitzo la carpeta original amb més imatges, surten problemes perquè aquesta manera de crear un conjunt de dades consumeix molta memòria."
   ]
  },
  {
   "cell_type": "code",
   "execution_count": 3,
   "id": "85e49fa2",
   "metadata": {},
   "outputs": [],
   "source": [
    "carpeta_principal = 'data/img_webcam/'\n",
    "vocales_info_b = []\n",
    "img_lip_info_b = []\n",
    "\n",
    "img_scale_info = []\n",
    "scale_info = []\n",
    "\n",
    "for entrada in os.listdir(carpeta_principal):\n",
    "    ruta_absoluta = os.path.join(carpeta_principal, entrada)\n",
    "    # Verifica si la entrada es una carpeta\n",
    "    if os.path.isdir(ruta_absoluta):\n",
    "        # Ruta de la carpeta que contiene las imágenes\n",
    "        carpeta = 'data/img_webcam/' + entrada\n",
    "\n",
    "    # Itera sobre todos los archivos en la carpeta\n",
    "    for archivo in os.listdir(carpeta):\n",
    "        # Verifica si el archivo es una imagen (puedes ajustar esta condición según el tipo de imágenes que tengas)\n",
    "        if archivo.endswith('.jpg') or archivo.endswith('.png') or archivo.endswith('.jpeg'):\n",
    "            ruta_imagen = os.path.join(carpeta, archivo)\n",
    "\n",
    "            face_detection = mp_face_detection.FaceDetection(min_detection_confidence=0.5)\n",
    "            face_mesh = mp_face_mesh.FaceMesh(static_image_mode=True, min_detection_confidence=0.5, min_tracking_confidence=0.5)\n",
    "            \n",
    "            lip_info_b = []\n",
    "            image = cv2.imread(ruta_imagen)\n",
    "            height, width, _ = image.shape\n",
    "            image_rgb = cv2.cvtColor(image, cv2.COLOR_BGR2RGB)\n",
    "\n",
    "            results_detection = face_detection.process(image_rgb)\n",
    "            # Realizar el seguimiento de los puntos faciales si se detecta una cara\n",
    "            if results_detection.detections:\n",
    "                for detection in results_detection.detections:\n",
    "                    bboxC = detection.location_data.relative_bounding_box\n",
    "                    xmin = int(bboxC.xmin * width)\n",
    "                    ymin = int(bboxC.ymin * height)\n",
    "                    w = int(bboxC.width * width)\n",
    "                    h = int(bboxC.height * height)\n",
    "                    xmax = xmin + w\n",
    "                    ymax = ymin + h\n",
    "                    x_distance = xmax - xmin\n",
    "                    y_distance = ymax - ymin\n",
    "                    x_scale = x_distance/width\n",
    "                    y_scale = y_distance/height\n",
    "                    \n",
    "                    # Realizar el seguimiento de los puntos faciales\n",
    "                    results_mesh = face_mesh.process(image_rgb)\n",
    "        \n",
    "                    if results_mesh.multi_face_landmarks is not None:\n",
    "                        for face_landmarks in results_mesh.multi_face_landmarks:\n",
    "                            for index in index_lips:\n",
    "                                lip_info_b.append([face_landmarks.landmark[index].x, face_landmarks.landmark[index].y])\n",
    "        \n",
    "                    pos_x = []\n",
    "                    pos_y = []\n",
    "                    for i in lip_info_b:\n",
    "                        pos_x.append(i[0])\n",
    "                        pos_y.append(i[1])\n",
    "        \n",
    "                    aux_x = np.mean(pos_x)\n",
    "                    aux_y = np.mean(pos_y)\n",
    "                    lip_info_b.append([aux_x, aux_y])\n",
    "        \n",
    "        img_lip_info_b.append(lip_info_b)\n",
    "        img_scale_info.append([xmin, ymin, x_scale, y_scale])\n",
    "    vocales_info_b.append(img_lip_info_b)\n",
    "    scale_info.append(img_scale_info)\n",
    "    img_lip_info_b = []\n",
    "    img_scale_info = []"
   ]
  },
  {
   "cell_type": "code",
   "execution_count": 4,
   "id": "f5ce0317-485b-4c68-9177-c3660efae94e",
   "metadata": {},
   "outputs": [
    {
     "data": {
      "text/plain": [
       "[363, 251, 0.20078125, 0.35694444444444445]"
      ]
     },
     "execution_count": 4,
     "metadata": {},
     "output_type": "execute_result"
    }
   ],
   "source": [
    "scale_info[0][0]"
   ]
  },
  {
   "cell_type": "code",
   "execution_count": 5,
   "id": "d0d95948",
   "metadata": {},
   "outputs": [
    {
     "data": {
      "text/plain": [
       "251"
      ]
     },
     "execution_count": 5,
     "metadata": {},
     "output_type": "execute_result"
    }
   ],
   "source": [
    "len_file = len(vocales_info_b[0])\n",
    "len_file"
   ]
  },
  {
   "cell_type": "code",
   "execution_count": 6,
   "id": "f1a69ad3-c2cf-4ea6-be6a-cb1a3d6a16c9",
   "metadata": {},
   "outputs": [
    {
     "data": {
      "text/plain": [
       "5"
      ]
     },
     "execution_count": 6,
     "metadata": {},
     "output_type": "execute_result"
    }
   ],
   "source": [
    "len_vi = len(vocales_info_b)\n",
    "len_vi"
   ]
  },
  {
   "cell_type": "code",
   "execution_count": 7,
   "id": "8bceefbe",
   "metadata": {},
   "outputs": [
    {
     "name": "stdout",
     "output_type": "stream",
     "text": [
      "251\n",
      "218\n",
      "268\n",
      "318\n",
      "311\n"
     ]
    }
   ],
   "source": [
    "for i in vocales_info_b:\n",
    "    print(len(i))"
   ]
  },
  {
   "cell_type": "code",
   "execution_count": 8,
   "id": "3b505d47-fc3e-4121-abf6-1feaf3cb14f7",
   "metadata": {},
   "outputs": [
    {
     "name": "stdout",
     "output_type": "stream",
     "text": [
      "251\n",
      "218\n",
      "268\n",
      "318\n",
      "311\n"
     ]
    }
   ],
   "source": [
    "for i in scale_info:\n",
    "    print(len(i))"
   ]
  },
  {
   "cell_type": "code",
   "execution_count": 9,
   "id": "debe54c0",
   "metadata": {},
   "outputs": [
    {
     "name": "stdout",
     "output_type": "stream",
     "text": [
      "218\n",
      "218\n",
      "218\n",
      "218\n",
      "218\n"
     ]
    }
   ],
   "source": [
    "min = 1000\n",
    "for i in vocales_info_b:\n",
    "    if (len(i) < min) and (len(i) > 0):\n",
    "        min = len(i)\n",
    "        \n",
    "for i in range(len(vocales_info_b)):\n",
    "    vocales_info_b[i] = vocales_info_b[i][:min]\n",
    "    scale_info[i] = scale_info[i][:min]\n",
    "    \n",
    "for i in vocales_info_b:\n",
    "    print(len(i))"
   ]
  },
  {
   "cell_type": "code",
   "execution_count": 10,
   "id": "8c8ee421-81c0-402c-b4a3-7136d975f426",
   "metadata": {},
   "outputs": [
    {
     "name": "stdout",
     "output_type": "stream",
     "text": [
      "218\n",
      "218\n",
      "218\n",
      "218\n",
      "218\n"
     ]
    }
   ],
   "source": [
    "for i in scale_info:\n",
    "    print(len(i))"
   ]
  },
  {
   "cell_type": "code",
   "execution_count": 11,
   "id": "5d154865",
   "metadata": {},
   "outputs": [],
   "source": [
    "vocales_info_np_b = np.array(vocales_info_b)"
   ]
  },
  {
   "cell_type": "code",
   "execution_count": 12,
   "id": "4d03f911-3308-4864-9f87-7b4365ee9192",
   "metadata": {},
   "outputs": [
    {
     "data": {
      "text/plain": [
       "0.3319104313850403"
      ]
     },
     "execution_count": 12,
     "metadata": {},
     "output_type": "execute_result"
    }
   ],
   "source": [
    "vocales_info_np_b[0][0][0][0]"
   ]
  },
  {
   "cell_type": "code",
   "execution_count": 13,
   "id": "aae3a646-5eb0-4d07-9e9b-b4365ea19da0",
   "metadata": {},
   "outputs": [
    {
     "data": {
      "text/plain": [
       "363"
      ]
     },
     "execution_count": 13,
     "metadata": {},
     "output_type": "execute_result"
    }
   ],
   "source": [
    "scale_info[0][0][0]"
   ]
  },
  {
   "cell_type": "code",
   "execution_count": 14,
   "id": "cf1b6505-18fc-478a-abdf-fca7ed49f8ed",
   "metadata": {},
   "outputs": [],
   "source": [
    "import math\n",
    "coordenada_central = 80\n",
    "vocales_info_b_2 = []\n",
    "img_lip_info_b_2 = []\n",
    "for i in range(len(vocales_info_np_b)):\n",
    "    for j in range(len(vocales_info_np_b[i])):\n",
    "        lip_info_b_2 = []\n",
    "        aux_x_1 = (abs(vocales_info_np_b[i][j][coordenada_central][0] - scale_info[i][j][0]) / scale_info[i][j][2])\n",
    "        aux_y_1 = (abs(vocales_info_np_b[i][j][coordenada_central][1] - scale_info[i][j][1]) / scale_info[i][j][3])\n",
    "        for k in range(len(vocales_info_np_b[i][j]) - 1):\n",
    "            aux_x_2 = (abs(vocales_info_np_b[i][j][k][0] - scale_info[i][j][0]) / scale_info[i][j][2])\n",
    "            aux_y_2 = (abs(vocales_info_np_b[i][j][k][1] - scale_info[i][j][1]) / scale_info[i][j][3])\n",
    "            distancia = math.sqrt((aux_x_1 - aux_x_2)**2 + (aux_y_1 - aux_y_2)**2)\n",
    "            lip_info_b_2.append(distancia)\n",
    "        img_lip_info_b_2.append(lip_info_b_2)\n",
    "    vocales_info_b_2.append(img_lip_info_b_2)\n",
    "    img_lip_info_b_2 = []"
   ]
  },
  {
   "cell_type": "code",
   "execution_count": 15,
   "id": "66590c06-8073-46ce-ac6d-e0337503a4a9",
   "metadata": {},
   "outputs": [
    {
     "data": {
      "text/plain": [
       "80"
      ]
     },
     "execution_count": 15,
     "metadata": {},
     "output_type": "execute_result"
    }
   ],
   "source": [
    "len(vocales_info_b_2[0][0])"
   ]
  },
  {
   "cell_type": "code",
   "execution_count": 16,
   "id": "5c4954f9-40bc-4086-b560-df2bb106d2a6",
   "metadata": {},
   "outputs": [
    {
     "data": {
      "text/plain": [
       "0.167790216894874"
      ]
     },
     "execution_count": 16,
     "metadata": {},
     "output_type": "execute_result"
    }
   ],
   "source": [
    "vocales_info_b_2[0][0][0]"
   ]
  },
  {
   "cell_type": "code",
   "execution_count": 17,
   "id": "0229ccc6",
   "metadata": {
    "scrolled": true
   },
   "outputs": [
    {
     "data": {
      "text/html": [
       "<div>\n",
       "<style scoped>\n",
       "    .dataframe tbody tr th:only-of-type {\n",
       "        vertical-align: middle;\n",
       "    }\n",
       "\n",
       "    .dataframe tbody tr th {\n",
       "        vertical-align: top;\n",
       "    }\n",
       "\n",
       "    .dataframe thead th {\n",
       "        text-align: right;\n",
       "    }\n",
       "</style>\n",
       "<table border=\"1\" class=\"dataframe\">\n",
       "  <thead>\n",
       "    <tr style=\"text-align: right;\">\n",
       "      <th></th>\n",
       "      <th>Y</th>\n",
       "    </tr>\n",
       "  </thead>\n",
       "  <tbody>\n",
       "    <tr>\n",
       "      <th>0</th>\n",
       "      <td>1</td>\n",
       "    </tr>\n",
       "    <tr>\n",
       "      <th>1</th>\n",
       "      <td>1</td>\n",
       "    </tr>\n",
       "    <tr>\n",
       "      <th>2</th>\n",
       "      <td>1</td>\n",
       "    </tr>\n",
       "    <tr>\n",
       "      <th>3</th>\n",
       "      <td>1</td>\n",
       "    </tr>\n",
       "    <tr>\n",
       "      <th>4</th>\n",
       "      <td>1</td>\n",
       "    </tr>\n",
       "    <tr>\n",
       "      <th>...</th>\n",
       "      <td>...</td>\n",
       "    </tr>\n",
       "    <tr>\n",
       "      <th>1085</th>\n",
       "      <td>5</td>\n",
       "    </tr>\n",
       "    <tr>\n",
       "      <th>1086</th>\n",
       "      <td>5</td>\n",
       "    </tr>\n",
       "    <tr>\n",
       "      <th>1087</th>\n",
       "      <td>5</td>\n",
       "    </tr>\n",
       "    <tr>\n",
       "      <th>1088</th>\n",
       "      <td>5</td>\n",
       "    </tr>\n",
       "    <tr>\n",
       "      <th>1089</th>\n",
       "      <td>5</td>\n",
       "    </tr>\n",
       "  </tbody>\n",
       "</table>\n",
       "<p>1090 rows × 1 columns</p>\n",
       "</div>"
      ],
      "text/plain": [
       "      Y\n",
       "0     1\n",
       "1     1\n",
       "2     1\n",
       "3     1\n",
       "4     1\n",
       "...  ..\n",
       "1085  5\n",
       "1086  5\n",
       "1087  5\n",
       "1088  5\n",
       "1089  5\n",
       "\n",
       "[1090 rows x 1 columns]"
      ]
     },
     "execution_count": 17,
     "metadata": {},
     "output_type": "execute_result"
    }
   ],
   "source": [
    "longitud_array_vocals = min*len_vi\n",
    "aux_a_v = 0\n",
    "\n",
    "array_vocals = []\n",
    "for i in range(longitud_array_vocals):\n",
    "    if i % (longitud_array_vocals/5) == 0:\n",
    "        aux_a_v += 1  \n",
    "    array_vocals.append(aux_a_v)\n",
    "\n",
    "df_array_vocals = pd.DataFrame(array_vocals, columns=['Y'])\n",
    "df_array_vocals"
   ]
  },
  {
   "cell_type": "code",
   "execution_count": 18,
   "id": "f06f4831",
   "metadata": {},
   "outputs": [],
   "source": [
    "df_2 = pd.DataFrame()\n",
    "for i in range(len(vocales_info_b_2)):\n",
    "    df_aux = pd.DataFrame(vocales_info_b_2[i])\n",
    "    df_2 = pd.concat([df_2, df_aux])"
   ]
  },
  {
   "cell_type": "code",
   "execution_count": 19,
   "id": "320020d7-837d-4187-9df7-2f0c7c60326a",
   "metadata": {},
   "outputs": [
    {
     "data": {
      "text/html": [
       "<div>\n",
       "<style scoped>\n",
       "    .dataframe tbody tr th:only-of-type {\n",
       "        vertical-align: middle;\n",
       "    }\n",
       "\n",
       "    .dataframe tbody tr th {\n",
       "        vertical-align: top;\n",
       "    }\n",
       "\n",
       "    .dataframe thead th {\n",
       "        text-align: right;\n",
       "    }\n",
       "</style>\n",
       "<table border=\"1\" class=\"dataframe\">\n",
       "  <thead>\n",
       "    <tr style=\"text-align: right;\">\n",
       "      <th></th>\n",
       "      <th>0</th>\n",
       "      <th>1</th>\n",
       "      <th>2</th>\n",
       "      <th>3</th>\n",
       "      <th>4</th>\n",
       "      <th>5</th>\n",
       "      <th>6</th>\n",
       "      <th>7</th>\n",
       "      <th>8</th>\n",
       "      <th>9</th>\n",
       "      <th>...</th>\n",
       "      <th>70</th>\n",
       "      <th>71</th>\n",
       "      <th>72</th>\n",
       "      <th>73</th>\n",
       "      <th>74</th>\n",
       "      <th>75</th>\n",
       "      <th>76</th>\n",
       "      <th>77</th>\n",
       "      <th>78</th>\n",
       "      <th>79</th>\n",
       "    </tr>\n",
       "  </thead>\n",
       "  <tbody>\n",
       "    <tr>\n",
       "      <th>0</th>\n",
       "      <td>0.167790</td>\n",
       "      <td>0.156070</td>\n",
       "      <td>0.143436</td>\n",
       "      <td>0.135475</td>\n",
       "      <td>0.166558</td>\n",
       "      <td>0.151888</td>\n",
       "      <td>0.135035</td>\n",
       "      <td>0.124169</td>\n",
       "      <td>0.117359</td>\n",
       "      <td>0.132504</td>\n",
       "      <td>...</td>\n",
       "      <td>0.140482</td>\n",
       "      <td>0.132535</td>\n",
       "      <td>0.135244</td>\n",
       "      <td>0.148129</td>\n",
       "      <td>0.161338</td>\n",
       "      <td>0.174245</td>\n",
       "      <td>0.154687</td>\n",
       "      <td>0.161340</td>\n",
       "      <td>0.173148</td>\n",
       "      <td>0.184620</td>\n",
       "    </tr>\n",
       "    <tr>\n",
       "      <th>1</th>\n",
       "      <td>0.171376</td>\n",
       "      <td>0.159939</td>\n",
       "      <td>0.147352</td>\n",
       "      <td>0.139214</td>\n",
       "      <td>0.171121</td>\n",
       "      <td>0.156479</td>\n",
       "      <td>0.139701</td>\n",
       "      <td>0.128851</td>\n",
       "      <td>0.120170</td>\n",
       "      <td>0.135246</td>\n",
       "      <td>...</td>\n",
       "      <td>0.147812</td>\n",
       "      <td>0.139812</td>\n",
       "      <td>0.142198</td>\n",
       "      <td>0.155114</td>\n",
       "      <td>0.168316</td>\n",
       "      <td>0.181086</td>\n",
       "      <td>0.163553</td>\n",
       "      <td>0.170343</td>\n",
       "      <td>0.182302</td>\n",
       "      <td>0.193675</td>\n",
       "    </tr>\n",
       "    <tr>\n",
       "      <th>2</th>\n",
       "      <td>0.163407</td>\n",
       "      <td>0.152076</td>\n",
       "      <td>0.139784</td>\n",
       "      <td>0.132115</td>\n",
       "      <td>0.163331</td>\n",
       "      <td>0.148782</td>\n",
       "      <td>0.132162</td>\n",
       "      <td>0.121547</td>\n",
       "      <td>0.114229</td>\n",
       "      <td>0.128830</td>\n",
       "      <td>...</td>\n",
       "      <td>0.140165</td>\n",
       "      <td>0.132408</td>\n",
       "      <td>0.136038</td>\n",
       "      <td>0.148539</td>\n",
       "      <td>0.161627</td>\n",
       "      <td>0.174528</td>\n",
       "      <td>0.156199</td>\n",
       "      <td>0.162691</td>\n",
       "      <td>0.174401</td>\n",
       "      <td>0.185730</td>\n",
       "    </tr>\n",
       "    <tr>\n",
       "      <th>3</th>\n",
       "      <td>0.160119</td>\n",
       "      <td>0.148635</td>\n",
       "      <td>0.136355</td>\n",
       "      <td>0.128923</td>\n",
       "      <td>0.158902</td>\n",
       "      <td>0.144326</td>\n",
       "      <td>0.127730</td>\n",
       "      <td>0.117220</td>\n",
       "      <td>0.111936</td>\n",
       "      <td>0.126229</td>\n",
       "      <td>...</td>\n",
       "      <td>0.134417</td>\n",
       "      <td>0.126551</td>\n",
       "      <td>0.130001</td>\n",
       "      <td>0.142256</td>\n",
       "      <td>0.155372</td>\n",
       "      <td>0.168459</td>\n",
       "      <td>0.149177</td>\n",
       "      <td>0.155363</td>\n",
       "      <td>0.166944</td>\n",
       "      <td>0.178300</td>\n",
       "    </tr>\n",
       "    <tr>\n",
       "      <th>4</th>\n",
       "      <td>0.167354</td>\n",
       "      <td>0.155795</td>\n",
       "      <td>0.143297</td>\n",
       "      <td>0.135462</td>\n",
       "      <td>0.166632</td>\n",
       "      <td>0.151906</td>\n",
       "      <td>0.135125</td>\n",
       "      <td>0.124409</td>\n",
       "      <td>0.117357</td>\n",
       "      <td>0.132195</td>\n",
       "      <td>...</td>\n",
       "      <td>0.142007</td>\n",
       "      <td>0.134071</td>\n",
       "      <td>0.137112</td>\n",
       "      <td>0.149891</td>\n",
       "      <td>0.163176</td>\n",
       "      <td>0.176062</td>\n",
       "      <td>0.157113</td>\n",
       "      <td>0.163833</td>\n",
       "      <td>0.175785</td>\n",
       "      <td>0.187216</td>\n",
       "    </tr>\n",
       "    <tr>\n",
       "      <th>...</th>\n",
       "      <td>...</td>\n",
       "      <td>...</td>\n",
       "      <td>...</td>\n",
       "      <td>...</td>\n",
       "      <td>...</td>\n",
       "      <td>...</td>\n",
       "      <td>...</td>\n",
       "      <td>...</td>\n",
       "      <td>...</td>\n",
       "      <td>...</td>\n",
       "      <td>...</td>\n",
       "      <td>...</td>\n",
       "      <td>...</td>\n",
       "      <td>...</td>\n",
       "      <td>...</td>\n",
       "      <td>...</td>\n",
       "      <td>...</td>\n",
       "      <td>...</td>\n",
       "      <td>...</td>\n",
       "      <td>...</td>\n",
       "      <td>...</td>\n",
       "    </tr>\n",
       "    <tr>\n",
       "      <th>213</th>\n",
       "      <td>0.127608</td>\n",
       "      <td>0.116439</td>\n",
       "      <td>0.106359</td>\n",
       "      <td>0.102190</td>\n",
       "      <td>0.122680</td>\n",
       "      <td>0.109130</td>\n",
       "      <td>0.094492</td>\n",
       "      <td>0.085380</td>\n",
       "      <td>0.089213</td>\n",
       "      <td>0.098951</td>\n",
       "      <td>...</td>\n",
       "      <td>0.099217</td>\n",
       "      <td>0.092357</td>\n",
       "      <td>0.099135</td>\n",
       "      <td>0.107058</td>\n",
       "      <td>0.118672</td>\n",
       "      <td>0.132563</td>\n",
       "      <td>0.115133</td>\n",
       "      <td>0.118389</td>\n",
       "      <td>0.127618</td>\n",
       "      <td>0.139263</td>\n",
       "    </tr>\n",
       "    <tr>\n",
       "      <th>214</th>\n",
       "      <td>0.136031</td>\n",
       "      <td>0.124972</td>\n",
       "      <td>0.114680</td>\n",
       "      <td>0.109691</td>\n",
       "      <td>0.129874</td>\n",
       "      <td>0.116356</td>\n",
       "      <td>0.101498</td>\n",
       "      <td>0.091569</td>\n",
       "      <td>0.096220</td>\n",
       "      <td>0.106517</td>\n",
       "      <td>...</td>\n",
       "      <td>0.110160</td>\n",
       "      <td>0.103366</td>\n",
       "      <td>0.107122</td>\n",
       "      <td>0.115045</td>\n",
       "      <td>0.126546</td>\n",
       "      <td>0.140461</td>\n",
       "      <td>0.126741</td>\n",
       "      <td>0.129282</td>\n",
       "      <td>0.138108</td>\n",
       "      <td>0.149488</td>\n",
       "    </tr>\n",
       "    <tr>\n",
       "      <th>215</th>\n",
       "      <td>0.133580</td>\n",
       "      <td>0.122692</td>\n",
       "      <td>0.112380</td>\n",
       "      <td>0.107287</td>\n",
       "      <td>0.127569</td>\n",
       "      <td>0.114138</td>\n",
       "      <td>0.099347</td>\n",
       "      <td>0.089571</td>\n",
       "      <td>0.094459</td>\n",
       "      <td>0.104803</td>\n",
       "      <td>...</td>\n",
       "      <td>0.108646</td>\n",
       "      <td>0.102254</td>\n",
       "      <td>0.105653</td>\n",
       "      <td>0.113242</td>\n",
       "      <td>0.124583</td>\n",
       "      <td>0.138398</td>\n",
       "      <td>0.125086</td>\n",
       "      <td>0.127263</td>\n",
       "      <td>0.135957</td>\n",
       "      <td>0.147084</td>\n",
       "    </tr>\n",
       "    <tr>\n",
       "      <th>216</th>\n",
       "      <td>0.129770</td>\n",
       "      <td>0.118881</td>\n",
       "      <td>0.108515</td>\n",
       "      <td>0.103485</td>\n",
       "      <td>0.125078</td>\n",
       "      <td>0.111690</td>\n",
       "      <td>0.096979</td>\n",
       "      <td>0.087287</td>\n",
       "      <td>0.091050</td>\n",
       "      <td>0.101101</td>\n",
       "      <td>...</td>\n",
       "      <td>0.105429</td>\n",
       "      <td>0.099234</td>\n",
       "      <td>0.103336</td>\n",
       "      <td>0.110740</td>\n",
       "      <td>0.121977</td>\n",
       "      <td>0.135610</td>\n",
       "      <td>0.121661</td>\n",
       "      <td>0.124112</td>\n",
       "      <td>0.132836</td>\n",
       "      <td>0.143987</td>\n",
       "    </tr>\n",
       "    <tr>\n",
       "      <th>217</th>\n",
       "      <td>0.125091</td>\n",
       "      <td>0.114518</td>\n",
       "      <td>0.104405</td>\n",
       "      <td>0.099307</td>\n",
       "      <td>0.120363</td>\n",
       "      <td>0.107319</td>\n",
       "      <td>0.093023</td>\n",
       "      <td>0.083380</td>\n",
       "      <td>0.087342</td>\n",
       "      <td>0.097330</td>\n",
       "      <td>...</td>\n",
       "      <td>0.101989</td>\n",
       "      <td>0.096037</td>\n",
       "      <td>0.100553</td>\n",
       "      <td>0.107653</td>\n",
       "      <td>0.118630</td>\n",
       "      <td>0.132044</td>\n",
       "      <td>0.118472</td>\n",
       "      <td>0.120687</td>\n",
       "      <td>0.129018</td>\n",
       "      <td>0.139772</td>\n",
       "    </tr>\n",
       "  </tbody>\n",
       "</table>\n",
       "<p>1090 rows × 80 columns</p>\n",
       "</div>"
      ],
      "text/plain": [
       "           0         1         2         3         4         5         6   \\\n",
       "0    0.167790  0.156070  0.143436  0.135475  0.166558  0.151888  0.135035   \n",
       "1    0.171376  0.159939  0.147352  0.139214  0.171121  0.156479  0.139701   \n",
       "2    0.163407  0.152076  0.139784  0.132115  0.163331  0.148782  0.132162   \n",
       "3    0.160119  0.148635  0.136355  0.128923  0.158902  0.144326  0.127730   \n",
       "4    0.167354  0.155795  0.143297  0.135462  0.166632  0.151906  0.135125   \n",
       "..        ...       ...       ...       ...       ...       ...       ...   \n",
       "213  0.127608  0.116439  0.106359  0.102190  0.122680  0.109130  0.094492   \n",
       "214  0.136031  0.124972  0.114680  0.109691  0.129874  0.116356  0.101498   \n",
       "215  0.133580  0.122692  0.112380  0.107287  0.127569  0.114138  0.099347   \n",
       "216  0.129770  0.118881  0.108515  0.103485  0.125078  0.111690  0.096979   \n",
       "217  0.125091  0.114518  0.104405  0.099307  0.120363  0.107319  0.093023   \n",
       "\n",
       "           7         8         9   ...        70        71        72  \\\n",
       "0    0.124169  0.117359  0.132504  ...  0.140482  0.132535  0.135244   \n",
       "1    0.128851  0.120170  0.135246  ...  0.147812  0.139812  0.142198   \n",
       "2    0.121547  0.114229  0.128830  ...  0.140165  0.132408  0.136038   \n",
       "3    0.117220  0.111936  0.126229  ...  0.134417  0.126551  0.130001   \n",
       "4    0.124409  0.117357  0.132195  ...  0.142007  0.134071  0.137112   \n",
       "..        ...       ...       ...  ...       ...       ...       ...   \n",
       "213  0.085380  0.089213  0.098951  ...  0.099217  0.092357  0.099135   \n",
       "214  0.091569  0.096220  0.106517  ...  0.110160  0.103366  0.107122   \n",
       "215  0.089571  0.094459  0.104803  ...  0.108646  0.102254  0.105653   \n",
       "216  0.087287  0.091050  0.101101  ...  0.105429  0.099234  0.103336   \n",
       "217  0.083380  0.087342  0.097330  ...  0.101989  0.096037  0.100553   \n",
       "\n",
       "           73        74        75        76        77        78        79  \n",
       "0    0.148129  0.161338  0.174245  0.154687  0.161340  0.173148  0.184620  \n",
       "1    0.155114  0.168316  0.181086  0.163553  0.170343  0.182302  0.193675  \n",
       "2    0.148539  0.161627  0.174528  0.156199  0.162691  0.174401  0.185730  \n",
       "3    0.142256  0.155372  0.168459  0.149177  0.155363  0.166944  0.178300  \n",
       "4    0.149891  0.163176  0.176062  0.157113  0.163833  0.175785  0.187216  \n",
       "..        ...       ...       ...       ...       ...       ...       ...  \n",
       "213  0.107058  0.118672  0.132563  0.115133  0.118389  0.127618  0.139263  \n",
       "214  0.115045  0.126546  0.140461  0.126741  0.129282  0.138108  0.149488  \n",
       "215  0.113242  0.124583  0.138398  0.125086  0.127263  0.135957  0.147084  \n",
       "216  0.110740  0.121977  0.135610  0.121661  0.124112  0.132836  0.143987  \n",
       "217  0.107653  0.118630  0.132044  0.118472  0.120687  0.129018  0.139772  \n",
       "\n",
       "[1090 rows x 80 columns]"
      ]
     },
     "execution_count": 19,
     "metadata": {},
     "output_type": "execute_result"
    }
   ],
   "source": [
    "df_2"
   ]
  },
  {
   "cell_type": "markdown",
   "id": "e112ac0d-8ae1-410a-90e4-bf274b9bcb9b",
   "metadata": {},
   "source": [
    "### Entrenament del model Support Vector Machine"
   ]
  },
  {
   "cell_type": "code",
   "execution_count": 20,
   "id": "a3338008-1ea4-4127-aa12-d0bc00ec51dd",
   "metadata": {},
   "outputs": [
    {
     "name": "stdout",
     "output_type": "stream",
     "text": [
      "Mejores hiperparámetros: {'C': 100, 'gamma': 0.001, 'kernel': 'linear'}\n"
     ]
    }
   ],
   "source": [
    "# Definir los parámetros a ajustar\n",
    "param_grid = {'C': [0.1, 1, 10, 100, 1000], 'gamma': [0.001, 0.01, 0.1, 1], 'kernel': ['linear', 'rbf', 'poly']}\n",
    "\n",
    "# Realizar la búsqueda en cuadrícula para encontrar la mejor combinación de hiperparámetros\n",
    "grid_search = GridSearchCV(SVC(), param_grid, cv=5)\n",
    "grid_search.fit(df_2, df_array_vocals.values.ravel())\n",
    "\n",
    "# Mostrar los mejores hiperparámetros encontrados\n",
    "print(\"Mejores hiperparámetros:\", grid_search.best_params_)"
   ]
  },
  {
   "cell_type": "code",
   "execution_count": 21,
   "id": "f6110b17-0b9d-4fde-b60c-38579b820b38",
   "metadata": {},
   "outputs": [
    {
     "name": "stdout",
     "output_type": "stream",
     "text": [
      "Accuracy: 1.0\n"
     ]
    }
   ],
   "source": [
    "# Dividir los datos en conjuntos de entrenamiento y prueba\n",
    "X_train, X_test, y_train, y_test = train_test_split(df_2, df_array_vocals.values.ravel(), test_size=0.2, random_state=42)\n",
    "\n",
    "# Crear un clasificador SVM\n",
    "svm_classifier_2 = SVC(kernel='poly', C=1000, gamma=1)\n",
    "\n",
    "# Entrenar el clasificador\n",
    "svm_classifier_2.fit(X_train, y_train)\n",
    "\n",
    "# Predecir las etiquetas de clase para el conjunto de prueba\n",
    "y_pred = svm_classifier_2.predict(X_test)\n",
    "\n",
    "# Calcular la precisión del clasificador\n",
    "accuracy = accuracy_score(y_test, y_pred)\n",
    "print(\"Accuracy:\", accuracy)"
   ]
  },
  {
   "cell_type": "code",
   "execution_count": 22,
   "id": "08b8f007-687f-4ec8-9a31-8d457177478c",
   "metadata": {},
   "outputs": [
    {
     "data": {
      "text/plain": [
       "['models/svm/svm_classifier_OP_webcam.joblib']"
      ]
     },
     "execution_count": 22,
     "metadata": {},
     "output_type": "execute_result"
    }
   ],
   "source": [
    "# Guardar el modelo\n",
    "dump(svm_classifier_2, 'models/svm/svm_classifier_OP_webcam.joblib')"
   ]
  },
  {
   "cell_type": "code",
   "execution_count": 23,
   "id": "78e82be7-2eb5-4905-a06b-487c629c8a4e",
   "metadata": {},
   "outputs": [
    {
     "name": "stdout",
     "output_type": "stream",
     "text": [
      "Precisión de validación cruzada: 0.9431192660550458\n"
     ]
    }
   ],
   "source": [
    "# Realizar validación cruzada para evaluar el rendimiento del modelo SVM\n",
    "scores = cross_val_score(SVC(), df_2, df_array_vocals.values.ravel(), cv=5)\n",
    "print(\"Precisión de validación cruzada:\", scores.mean())"
   ]
  },
  {
   "cell_type": "markdown",
   "id": "7f114bfb-e09d-412e-8156-2bbae1f984de",
   "metadata": {},
   "source": [
    "### Entrenament del model Random Forest"
   ]
  },
  {
   "cell_type": "code",
   "execution_count": 24,
   "id": "278e50f4-aece-431d-ae46-4141dc489a84",
   "metadata": {},
   "outputs": [
    {
     "name": "stdout",
     "output_type": "stream",
     "text": [
      "Accuracy: 0.9908256880733946\n"
     ]
    }
   ],
   "source": [
    "X_train, X_test, y_train, y_test = train_test_split(df_2, df_array_vocals.values.ravel(), test_size=0.2, random_state=42)\n",
    "\n",
    "rf_classifier_2 = RandomForestClassifier(n_estimators=1000, random_state=42)\n",
    "\n",
    "rf_classifier_2.fit(X_train, y_train)\n",
    "\n",
    "y_pred = rf_classifier_2.predict(X_test)\n",
    "\n",
    "accuracy = accuracy_score(y_test, y_pred)\n",
    "print(\"Accuracy:\", accuracy)"
   ]
  },
  {
   "cell_type": "code",
   "execution_count": 25,
   "id": "5a086c0c-3fc4-4427-965f-0d95656827e4",
   "metadata": {},
   "outputs": [
    {
     "data": {
      "text/plain": [
       "['models/rf/rf_classifier_OP_webcam.pkl']"
      ]
     },
     "execution_count": 25,
     "metadata": {},
     "output_type": "execute_result"
    }
   ],
   "source": [
    "# Guardar el modelo\n",
    "joblib.dump(rf_classifier_2, 'models/rf/rf_classifier_OP_webcam.pkl')"
   ]
  },
  {
   "cell_type": "code",
   "execution_count": null,
   "id": "db46b07c-a4a3-47f2-ad6b-fbde640397b4",
   "metadata": {},
   "outputs": [],
   "source": []
  }
 ],
 "metadata": {
  "kernelspec": {
   "display_name": "Python 3 (ipykernel)",
   "language": "python",
   "name": "python3"
  },
  "language_info": {
   "codemirror_mode": {
    "name": "ipython",
    "version": 3
   },
   "file_extension": ".py",
   "mimetype": "text/x-python",
   "name": "python",
   "nbconvert_exporter": "python",
   "pygments_lexer": "ipython3",
   "version": "3.11.7"
  }
 },
 "nbformat": 4,
 "nbformat_minor": 5
}
