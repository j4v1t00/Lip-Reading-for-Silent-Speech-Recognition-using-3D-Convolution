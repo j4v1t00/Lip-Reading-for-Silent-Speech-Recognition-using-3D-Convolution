{
 "cells": [
  {
   "cell_type": "markdown",
   "id": "de6c81c7-f71b-4295-a066-c4f3b117387c",
   "metadata": {},
   "source": [
    "## Prova amb vídeo del model entrenat solament utilitzant 'face_mesh'"
   ]
  },
  {
   "cell_type": "code",
   "execution_count": 1,
   "id": "41ee7ced-7f16-4cbb-93fc-32b5789057c4",
   "metadata": {},
   "outputs": [],
   "source": [
    "import cv2\n",
    "import mediapipe as mp\n",
    "import face_recognition\n",
    "import joblib\n",
    "import numpy as np\n",
    "import pandas as pd\n",
    "\n",
    "rf_classifier = joblib.load('models/svm/svm_classifier_a.joblib')\n",
    "index_lips = [61, 76, 62, 78, \n",
    "              185, 184, 183, 191, 95, 96, 77, 146, \n",
    "              40, 74, 42, 80, 88, 89, 90, 91, \n",
    "              39, 73, 41, 81, 178, 179, 180, 181, \n",
    "              37, 72, 38, 82, 87, 86, 85, 84,\n",
    "              0, 11, 12, 13, 14, 15, 16, 17,\n",
    "              267, 302, 268, 312, 317, 316, 315, 314, \n",
    "              269, 303, 271, 311, 402, 403, 404, 405, \n",
    "              270, 304, 272, 310, 318, 319, 320, 321, \n",
    "              409, 408, 407, 415, 324, 325, 307, 375, \n",
    "              308, 292, 306, 291]"
   ]
  },
  {
   "cell_type": "code",
   "execution_count": null,
   "id": "c5e31047-afc4-477c-9aea-29241dd79a56",
   "metadata": {},
   "outputs": [],
   "source": [
    "mp_face_mesh = mp.solutions.face_mesh\n",
    "mp_drawing = mp.solutions.drawing_utils\n",
    "\n",
    "cap = cv2.VideoCapture(0, cv2.CAP_DSHOW)\n",
    "\n",
    "with mp_face_mesh.FaceMesh(static_image_mode=False, max_num_faces=1, min_detection_confidence=0.5) as face_mesh:\n",
    "    while True:\n",
    "        ret, frame = cap.read()\n",
    "        if ret == False: break\n",
    "        frame = cv2.flip(frame, 1)\n",
    "        height, width, _ = frame.shape\n",
    "\n",
    "        # face_locations = face_recognition.face_locations(frame,)\n",
    "        # if face_locations != []:\n",
    "        #     for face_location in face_locations:\n",
    "        #         cv2.rectangle(frame, (face_location[3], face_location[0]), (face_location[1], face_location[2]), (0, 255, 0), 2)\n",
    "        lip_info = []\n",
    "        \n",
    "        frame_rgb = cv2.cvtColor(frame, cv2.COLOR_BGR2RGB)\n",
    "        results = face_mesh.process(frame_rgb)\n",
    "        if results.multi_face_landmarks is not None:\n",
    "            for face_landmarks in results.multi_face_landmarks:\n",
    "                for index in index_lips:\n",
    "                    lip_info.append([face_landmarks.landmark[index].x, face_landmarks.landmark[index].y, face_landmarks.landmark[index].z])\n",
    "                    x = int(face_landmarks.landmark[index].x * width)\n",
    "                    y = int(face_landmarks.landmark[index].y * height)\n",
    "                    cv2.circle(frame, (x, y), 1, (3, 187, 133), 1)\n",
    "\n",
    "        pos_x = []\n",
    "        pos_y = []\n",
    "        pos_z = []\n",
    "        for i in lip_info:\n",
    "            pos_x.append(i[0])\n",
    "            pos_y.append(i[1])\n",
    "            pos_z.append(i[2])\n",
    "\n",
    "        aux_x = np.mean(pos_x)\n",
    "        aux_y = np.mean(pos_y)\n",
    "        aux_z = np.mean(pos_z)\n",
    "        lip_info.append([aux_x, aux_y, aux_z])\n",
    "\n",
    "        lip_info = np.array(lip_info)\n",
    "        coordenada_central = 80\n",
    "        img_lip_info_2 = []\n",
    "        for i in range(len(lip_info) - 1):\n",
    "            distancia = np.linalg.norm(lip_info[i] - lip_info[coordenada_central])\n",
    "            img_lip_info_2.append(distancia)\n",
    "    \n",
    "        lip_info = pd.DataFrame(img_lip_info_2).transpose()\n",
    "        prediccion = rf_classifier.predict(lip_info)\n",
    "\n",
    "        switch = {1: \"Vocal A\", 2: \"Vocal E\", 3: \"Vocal I\", 4: \"Vocal O\", 5: \"Vocal U\"}\n",
    "\n",
    "        cv2.putText(frame, switch.get(prediccion[0]), (50, 150), 2, 0.7, (255, 0, 255), 2)\n",
    "        cv2.imshow(\"Frame\", frame)\n",
    "        k = cv2.waitKey(1)\n",
    "        if k == 27 & 0xFF: break\n",
    "cap.release()\n",
    "cv2.destroyAllWindows()"
   ]
  },
  {
   "cell_type": "code",
   "execution_count": null,
   "id": "3651752d-e3a7-4eb6-a6b6-686ec28f9fcb",
   "metadata": {},
   "outputs": [],
   "source": []
  }
 ],
 "metadata": {
  "kernelspec": {
   "display_name": "Python 3 (ipykernel)",
   "language": "python",
   "name": "python3"
  },
  "language_info": {
   "codemirror_mode": {
    "name": "ipython",
    "version": 3
   },
   "file_extension": ".py",
   "mimetype": "text/x-python",
   "name": "python",
   "nbconvert_exporter": "python",
   "pygments_lexer": "ipython3",
   "version": "3.11.7"
  }
 },
 "nbformat": 4,
 "nbformat_minor": 5
}
