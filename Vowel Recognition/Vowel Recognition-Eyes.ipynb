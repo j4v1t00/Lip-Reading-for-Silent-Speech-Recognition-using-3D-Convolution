{
 "cells": [
  {
   "cell_type": "markdown",
   "id": "71b51b1a-e7d5-4a3b-a82f-16ed3f4666c7",
   "metadata": {},
   "source": [
    "### Llibreries"
   ]
  },
  {
   "cell_type": "code",
   "execution_count": 1,
   "id": "7c4d3522",
   "metadata": {},
   "outputs": [],
   "source": [
    "import cv2\n",
    "import mediapipe as mp\n",
    "import numpy as np\n",
    "import os\n",
    "import pandas as pd\n",
    "import joblib\n",
    "import scikitplot as skplt\n",
    "\n",
    "from joblib import dump\n",
    "from sklearn.model_selection import train_test_split\n",
    "from sklearn.model_selection import cross_val_score\n",
    "from sklearn.svm import SVC\n",
    "from sklearn.metrics import accuracy_score\n",
    "from sklearn.model_selection import GridSearchCV\n",
    "from sklearn.ensemble import RandomForestClassifier"
   ]
  },
  {
   "cell_type": "markdown",
   "id": "60fa2e6a-f927-40f2-9215-0d8f5e72f590",
   "metadata": {},
   "source": [
    "### Funcions"
   ]
  },
  {
   "cell_type": "markdown",
   "id": "e8e7eb3c-91f6-4a3f-8ab9-2f49707de870",
   "metadata": {},
   "source": [
    "Inicialitzem i guardem les funcions per fer el face mesh.\n",
    "El 'index_lips' són tots els punts que defineixen els llavis.\n",
    " I el 'index_eyes' són els punts que estan en la part central dels ulls per poder calcular la distància interpupil·lar en el nostre cas."
   ]
  },
  {
   "cell_type": "code",
   "execution_count": 2,
   "id": "c71f456a-e6da-41fb-9416-db85eca7a3d7",
   "metadata": {},
   "outputs": [],
   "source": [
    "mp_face_mesh = mp.solutions.face_mesh\n",
    "mp_drawing = mp.solutions.drawing_utils\n",
    "index_lips = [61, 76, 62, 78, \n",
    "              185, 184, 183, 191, 95, 96, 77, 146, \n",
    "              40, 74, 42, 80, 88, 89, 90, 91, \n",
    "              39, 73, 41, 81, 178, 179, 180, 181, \n",
    "              37, 72, 38, 82, 87, 86, 85, 84,\n",
    "              0, 11, 12, 13, 14, 15, 16, 17,\n",
    "              267, 302, 268, 312, 317, 316, 315, 314, \n",
    "              269, 303, 271, 311, 402, 403, 404, 405, \n",
    "              270, 304, 272, 310, 318, 319, 320, 321, \n",
    "              409, 408, 407, 415, 324, 325, 307, 375, \n",
    "              308, 292, 306, 291]\n",
    "index_eyes = [159, 386]"
   ]
  },
  {
   "cell_type": "markdown",
   "id": "5db73d28-61ba-40da-8235-bf8d9311a15c",
   "metadata": {},
   "source": [
    "## Vowel Recognition amb la referència de la distància interpupil·lar"
   ]
  },
  {
   "cell_type": "markdown",
   "id": "7ac769f4-3fa9-456e-9356-b2d88643298d",
   "metadata": {},
   "source": [
    "### Creació del dataset"
   ]
  },
  {
   "cell_type": "code",
   "execution_count": 3,
   "id": "85e49fa2",
   "metadata": {},
   "outputs": [],
   "source": [
    "carpeta_principal = 'data/img/'\n",
    "vocales_info_b = []\n",
    "img_lip_info_b = []\n",
    "\n",
    "eyes_info = []\n",
    "img_eyes_info = []\n",
    "distance_eye = []\n",
    "\n",
    "for entrada in os.listdir(carpeta_principal):\n",
    "    ruta_absoluta = os.path.join(carpeta_principal, entrada)\n",
    "    # Verifica si la entrada es una carpeta\n",
    "    if os.path.isdir(ruta_absoluta):\n",
    "        # Ruta de la carpeta que contiene las imágenes\n",
    "        carpeta = 'data/img/' + entrada\n",
    "\n",
    "    # Itera sobre todos los archivos en la carpeta\n",
    "    for archivo in os.listdir(carpeta):\n",
    "        # Verifica si el archivo es una imagen\n",
    "        if archivo.endswith('.jpg') or archivo.endswith('.png') or archivo.endswith('.jpeg'):\n",
    "            ruta_imagen = os.path.join(carpeta, archivo)\n",
    "        \n",
    "            with mp_face_mesh.FaceMesh(static_image_mode=True, max_num_faces=1, min_detection_confidence=0.5) as face_mesh:\n",
    "                lip_info = []\n",
    "                lip_info_b = []\n",
    "                eyes_info = []\n",
    "                image = cv2.imread(ruta_imagen)\n",
    "                height, width, _ = image.shape\n",
    "                image_rgb = cv2.cvtColor(image, cv2.COLOR_BGR2RGB)\n",
    "                results = face_mesh.process(image_rgb)\n",
    "\n",
    "                if results.multi_face_landmarks is not None:\n",
    "                    for face_landmarks in results.multi_face_landmarks:\n",
    "                        for index in index_lips:\n",
    "                            #lip_info.append(face_landmarks.landmark[index])\n",
    "                            lip_info_b.append([face_landmarks.landmark[index].x, face_landmarks.landmark[index].y])\n",
    "                        for index in index_eyes:\n",
    "                            eyes_info.append([face_landmarks.landmark[index].x, face_landmarks.landmark[index].y])\n",
    "\n",
    "                pos_x = []\n",
    "                pos_y = []\n",
    "                for i in lip_info_b:\n",
    "                    pos_x.append(i[0])\n",
    "                    pos_y.append(i[1])\n",
    "\n",
    "                aux_x = np.mean(pos_x)\n",
    "                aux_y = np.mean(pos_y)\n",
    "                lip_info_b.append([aux_x, aux_y])\n",
    "        \n",
    "        img_lip_info_b.append(lip_info_b)\n",
    "        img_eyes_info.append(eyes_info)\n",
    "    vocales_info_b.append(img_lip_info_b)\n",
    "    distance_eye.append(img_eyes_info)\n",
    "    img_lip_info_b = []\n",
    "    img_eyes_info = []"
   ]
  },
  {
   "cell_type": "code",
   "execution_count": 4,
   "id": "8295b59a-fcc6-4e25-ad27-43236c6bd3db",
   "metadata": {},
   "outputs": [
    {
     "data": {
      "text/plain": [
       "[0.33143967390060425, 0.4065207839012146]"
      ]
     },
     "execution_count": 4,
     "metadata": {},
     "output_type": "execute_result"
    }
   ],
   "source": [
    "distance_eye[0][0][0]"
   ]
  },
  {
   "cell_type": "code",
   "execution_count": 5,
   "id": "d0d95948",
   "metadata": {},
   "outputs": [
    {
     "data": {
      "text/plain": [
       "251"
      ]
     },
     "execution_count": 5,
     "metadata": {},
     "output_type": "execute_result"
    }
   ],
   "source": [
    "len_file = len(vocales_info_b[0])\n",
    "len_file"
   ]
  },
  {
   "cell_type": "code",
   "execution_count": 6,
   "id": "f1a69ad3-c2cf-4ea6-be6a-cb1a3d6a16c9",
   "metadata": {},
   "outputs": [
    {
     "data": {
      "text/plain": [
       "20"
      ]
     },
     "execution_count": 6,
     "metadata": {},
     "output_type": "execute_result"
    }
   ],
   "source": [
    "len_vi = len(vocales_info_b)\n",
    "len_vi"
   ]
  },
  {
   "cell_type": "code",
   "execution_count": 7,
   "id": "8bceefbe",
   "metadata": {},
   "outputs": [
    {
     "name": "stdout",
     "output_type": "stream",
     "text": [
      "251\n",
      "137\n",
      "132\n",
      "241\n",
      "218\n",
      "137\n",
      "144\n",
      "239\n",
      "268\n",
      "137\n",
      "152\n",
      "236\n",
      "318\n",
      "137\n",
      "143\n",
      "227\n",
      "311\n",
      "137\n",
      "157\n",
      "253\n"
     ]
    }
   ],
   "source": [
    "for i in vocales_info_b:\n",
    "    print(len(i))"
   ]
  },
  {
   "cell_type": "code",
   "execution_count": 8,
   "id": "c87c18e2-9e8b-48e4-9666-1008db819e63",
   "metadata": {},
   "outputs": [
    {
     "name": "stdout",
     "output_type": "stream",
     "text": [
      "251\n",
      "137\n",
      "132\n",
      "241\n",
      "218\n",
      "137\n",
      "144\n",
      "239\n",
      "268\n",
      "137\n",
      "152\n",
      "236\n",
      "318\n",
      "137\n",
      "143\n",
      "227\n",
      "311\n",
      "137\n",
      "157\n",
      "253\n"
     ]
    }
   ],
   "source": [
    "for i in distance_eye:\n",
    "    print(len(i))"
   ]
  },
  {
   "cell_type": "code",
   "execution_count": 9,
   "id": "debe54c0",
   "metadata": {},
   "outputs": [
    {
     "name": "stdout",
     "output_type": "stream",
     "text": [
      "132\n",
      "132\n",
      "132\n",
      "132\n",
      "132\n",
      "132\n",
      "132\n",
      "132\n",
      "132\n",
      "132\n",
      "132\n",
      "132\n",
      "132\n",
      "132\n",
      "132\n",
      "132\n",
      "132\n",
      "132\n",
      "132\n",
      "132\n"
     ]
    }
   ],
   "source": [
    "min = 1000\n",
    "for i in vocales_info_b:\n",
    "    if (len(i) < min) and (len(i) > 0):\n",
    "        min = len(i)\n",
    "        \n",
    "for i in range(len(vocales_info_b)):\n",
    "    vocales_info_b[i] = vocales_info_b[i][:min]\n",
    "    distance_eye[i] = distance_eye[i][:min]\n",
    "    \n",
    "for i in vocales_info_b:\n",
    "    print(len(i))"
   ]
  },
  {
   "cell_type": "code",
   "execution_count": 10,
   "id": "5d154865",
   "metadata": {},
   "outputs": [],
   "source": [
    "vocales_info_np_b = np.array(vocales_info_b)\n",
    "distance_eye_np = np.array(distance_eye)"
   ]
  },
  {
   "cell_type": "code",
   "execution_count": 11,
   "id": "e930f30d-bf95-4cf9-84cb-13a86958b6bc",
   "metadata": {},
   "outputs": [
    {
     "data": {
      "text/plain": [
       "array([0.33191043, 0.5779357 ])"
      ]
     },
     "execution_count": 11,
     "metadata": {},
     "output_type": "execute_result"
    }
   ],
   "source": [
    "vocales_info_np_b[0][0][0]"
   ]
  },
  {
   "cell_type": "code",
   "execution_count": 12,
   "id": "ca40ca37-34d1-43db-8c7f-e5b1de7360d3",
   "metadata": {},
   "outputs": [
    {
     "data": {
      "text/plain": [
       "array([0.33143967, 0.40652078])"
      ]
     },
     "execution_count": 12,
     "metadata": {},
     "output_type": "execute_result"
    }
   ],
   "source": [
    "distance_eye_np[0][0][0]"
   ]
  },
  {
   "cell_type": "code",
   "execution_count": 13,
   "id": "4fbeec31-78ba-4e03-a74c-245769a1728a",
   "metadata": {},
   "outputs": [],
   "source": [
    "coordenada_central = 80\n",
    "distancia_media_ojos = 63 #En milimetros\n",
    "vocales_info_b_2 = []\n",
    "img_lip_info_b_2 = []\n",
    "for i in range(len(vocales_info_np_b)):\n",
    "    for j in range(len(vocales_info_np_b[i])):\n",
    "        lip_info_b_2 = []\n",
    "        distancia_ojos = np.linalg.norm(distance_eye_np[i][j][0] - distance_eye_np[i][j][1])\n",
    "        #print(\"distancia_ojos:\", distancia_ojos)\n",
    "        escala_ojos = distancia_media_ojos / distancia_ojos\n",
    "        #print(\"escala_ojos:\", escala_ojos)\n",
    "        for k in range(len(vocales_info_np_b[i][j]) - 1):\n",
    "            distancia = np.linalg.norm(vocales_info_np_b[i][j][k] - vocales_info_np_b[i][j][coordenada_central])\n",
    "            #print(\"distancia:\", distancia)\n",
    "            #print(\"distancia final:\", (distancia * escala_ojos))\n",
    "            lip_info_b_2.append(distancia * escala_ojos)\n",
    "        img_lip_info_b_2.append(lip_info_b_2)\n",
    "    vocales_info_b_2.append(img_lip_info_b_2)\n",
    "    img_lip_info_b_2 = []"
   ]
  },
  {
   "cell_type": "code",
   "execution_count": 15,
   "id": "0229ccc6",
   "metadata": {
    "scrolled": true
   },
   "outputs": [
    {
     "data": {
      "text/html": [
       "<div>\n",
       "<style scoped>\n",
       "    .dataframe tbody tr th:only-of-type {\n",
       "        vertical-align: middle;\n",
       "    }\n",
       "\n",
       "    .dataframe tbody tr th {\n",
       "        vertical-align: top;\n",
       "    }\n",
       "\n",
       "    .dataframe thead th {\n",
       "        text-align: right;\n",
       "    }\n",
       "</style>\n",
       "<table border=\"1\" class=\"dataframe\">\n",
       "  <thead>\n",
       "    <tr style=\"text-align: right;\">\n",
       "      <th></th>\n",
       "      <th>Y</th>\n",
       "    </tr>\n",
       "  </thead>\n",
       "  <tbody>\n",
       "    <tr>\n",
       "      <th>0</th>\n",
       "      <td>1</td>\n",
       "    </tr>\n",
       "    <tr>\n",
       "      <th>1</th>\n",
       "      <td>1</td>\n",
       "    </tr>\n",
       "    <tr>\n",
       "      <th>2</th>\n",
       "      <td>1</td>\n",
       "    </tr>\n",
       "    <tr>\n",
       "      <th>3</th>\n",
       "      <td>1</td>\n",
       "    </tr>\n",
       "    <tr>\n",
       "      <th>4</th>\n",
       "      <td>1</td>\n",
       "    </tr>\n",
       "    <tr>\n",
       "      <th>...</th>\n",
       "      <td>...</td>\n",
       "    </tr>\n",
       "    <tr>\n",
       "      <th>2635</th>\n",
       "      <td>5</td>\n",
       "    </tr>\n",
       "    <tr>\n",
       "      <th>2636</th>\n",
       "      <td>5</td>\n",
       "    </tr>\n",
       "    <tr>\n",
       "      <th>2637</th>\n",
       "      <td>5</td>\n",
       "    </tr>\n",
       "    <tr>\n",
       "      <th>2638</th>\n",
       "      <td>5</td>\n",
       "    </tr>\n",
       "    <tr>\n",
       "      <th>2639</th>\n",
       "      <td>5</td>\n",
       "    </tr>\n",
       "  </tbody>\n",
       "</table>\n",
       "<p>2640 rows × 1 columns</p>\n",
       "</div>"
      ],
      "text/plain": [
       "      Y\n",
       "0     1\n",
       "1     1\n",
       "2     1\n",
       "3     1\n",
       "4     1\n",
       "...  ..\n",
       "2635  5\n",
       "2636  5\n",
       "2637  5\n",
       "2638  5\n",
       "2639  5\n",
       "\n",
       "[2640 rows x 1 columns]"
      ]
     },
     "execution_count": 15,
     "metadata": {},
     "output_type": "execute_result"
    }
   ],
   "source": [
    "longitud_array_vocals = min*len_vi\n",
    "aux_a_v = 0\n",
    "\n",
    "array_vocals = []\n",
    "for i in range(longitud_array_vocals):\n",
    "    if i % (longitud_array_vocals/5) == 0:\n",
    "        aux_a_v += 1  \n",
    "    array_vocals.append(aux_a_v)\n",
    "\n",
    "df_array_vocals = pd.DataFrame(array_vocals, columns=['Y'])\n",
    "df_array_vocals"
   ]
  },
  {
   "cell_type": "code",
   "execution_count": 17,
   "id": "f06f4831",
   "metadata": {},
   "outputs": [],
   "source": [
    "df_2 = pd.DataFrame()\n",
    "for i in range(len(vocales_info_b_2)):\n",
    "    df_aux = pd.DataFrame(vocales_info_b_2[i])\n",
    "    df_2 = pd.concat([df_2, df_aux])"
   ]
  },
  {
   "cell_type": "code",
   "execution_count": 18,
   "id": "320020d7-837d-4187-9df7-2f0c7c60326a",
   "metadata": {},
   "outputs": [
    {
     "data": {
      "text/html": [
       "<div>\n",
       "<style scoped>\n",
       "    .dataframe tbody tr th:only-of-type {\n",
       "        vertical-align: middle;\n",
       "    }\n",
       "\n",
       "    .dataframe tbody tr th {\n",
       "        vertical-align: top;\n",
       "    }\n",
       "\n",
       "    .dataframe thead th {\n",
       "        text-align: right;\n",
       "    }\n",
       "</style>\n",
       "<table border=\"1\" class=\"dataframe\">\n",
       "  <thead>\n",
       "    <tr style=\"text-align: right;\">\n",
       "      <th></th>\n",
       "      <th>0</th>\n",
       "      <th>1</th>\n",
       "      <th>2</th>\n",
       "      <th>3</th>\n",
       "      <th>4</th>\n",
       "      <th>5</th>\n",
       "      <th>6</th>\n",
       "      <th>7</th>\n",
       "      <th>8</th>\n",
       "      <th>9</th>\n",
       "      <th>...</th>\n",
       "      <th>70</th>\n",
       "      <th>71</th>\n",
       "      <th>72</th>\n",
       "      <th>73</th>\n",
       "      <th>74</th>\n",
       "      <th>75</th>\n",
       "      <th>76</th>\n",
       "      <th>77</th>\n",
       "      <th>78</th>\n",
       "      <th>79</th>\n",
       "    </tr>\n",
       "  </thead>\n",
       "  <tbody>\n",
       "    <tr>\n",
       "      <th>0</th>\n",
       "      <td>24.704277</td>\n",
       "      <td>22.987331</td>\n",
       "      <td>21.258266</td>\n",
       "      <td>20.311675</td>\n",
       "      <td>27.028833</td>\n",
       "      <td>24.411226</td>\n",
       "      <td>21.759922</td>\n",
       "      <td>20.962155</td>\n",
       "      <td>17.206931</td>\n",
       "      <td>19.412249</td>\n",
       "      <td>...</td>\n",
       "      <td>21.250146</td>\n",
       "      <td>20.586484</td>\n",
       "      <td>20.419455</td>\n",
       "      <td>22.321419</td>\n",
       "      <td>24.280929</td>\n",
       "      <td>26.204838</td>\n",
       "      <td>22.419959</td>\n",
       "      <td>23.328695</td>\n",
       "      <td>25.021044</td>\n",
       "      <td>26.684171</td>\n",
       "    </tr>\n",
       "    <tr>\n",
       "      <th>1</th>\n",
       "      <td>25.328202</td>\n",
       "      <td>23.658986</td>\n",
       "      <td>21.945276</td>\n",
       "      <td>20.977384</td>\n",
       "      <td>27.918306</td>\n",
       "      <td>25.275622</td>\n",
       "      <td>22.625037</td>\n",
       "      <td>21.827484</td>\n",
       "      <td>17.343523</td>\n",
       "      <td>19.502605</td>\n",
       "      <td>...</td>\n",
       "      <td>21.930245</td>\n",
       "      <td>21.220622</td>\n",
       "      <td>21.368155</td>\n",
       "      <td>23.245079</td>\n",
       "      <td>25.202338</td>\n",
       "      <td>27.120472</td>\n",
       "      <td>23.468093</td>\n",
       "      <td>24.412196</td>\n",
       "      <td>26.120263</td>\n",
       "      <td>27.751889</td>\n",
       "    </tr>\n",
       "    <tr>\n",
       "      <th>2</th>\n",
       "      <td>24.186847</td>\n",
       "      <td>22.532038</td>\n",
       "      <td>20.860433</td>\n",
       "      <td>19.966992</td>\n",
       "      <td>26.637630</td>\n",
       "      <td>24.008625</td>\n",
       "      <td>21.381509</td>\n",
       "      <td>20.608466</td>\n",
       "      <td>16.622070</td>\n",
       "      <td>18.749095</td>\n",
       "      <td>...</td>\n",
       "      <td>20.963926</td>\n",
       "      <td>20.277508</td>\n",
       "      <td>20.478139</td>\n",
       "      <td>22.343140</td>\n",
       "      <td>24.319401</td>\n",
       "      <td>26.301764</td>\n",
       "      <td>22.598314</td>\n",
       "      <td>23.500431</td>\n",
       "      <td>25.184281</td>\n",
       "      <td>26.822184</td>\n",
       "    </tr>\n",
       "    <tr>\n",
       "      <th>3</th>\n",
       "      <td>23.809632</td>\n",
       "      <td>22.111871</td>\n",
       "      <td>20.414592</td>\n",
       "      <td>19.531865</td>\n",
       "      <td>25.947102</td>\n",
       "      <td>23.301017</td>\n",
       "      <td>20.659152</td>\n",
       "      <td>19.857945</td>\n",
       "      <td>16.525044</td>\n",
       "      <td>18.645876</td>\n",
       "      <td>...</td>\n",
       "      <td>20.389423</td>\n",
       "      <td>19.691396</td>\n",
       "      <td>19.757427</td>\n",
       "      <td>21.626787</td>\n",
       "      <td>23.640273</td>\n",
       "      <td>25.672468</td>\n",
       "      <td>21.849467</td>\n",
       "      <td>22.712839</td>\n",
       "      <td>24.396980</td>\n",
       "      <td>26.058318</td>\n",
       "    </tr>\n",
       "    <tr>\n",
       "      <th>4</th>\n",
       "      <td>24.489670</td>\n",
       "      <td>22.817459</td>\n",
       "      <td>21.125398</td>\n",
       "      <td>20.203400</td>\n",
       "      <td>26.848786</td>\n",
       "      <td>24.225216</td>\n",
       "      <td>21.604975</td>\n",
       "      <td>20.835183</td>\n",
       "      <td>16.964380</td>\n",
       "      <td>19.102633</td>\n",
       "      <td>...</td>\n",
       "      <td>21.092329</td>\n",
       "      <td>20.402062</td>\n",
       "      <td>20.512078</td>\n",
       "      <td>22.391121</td>\n",
       "      <td>24.372976</td>\n",
       "      <td>26.325102</td>\n",
       "      <td>22.528806</td>\n",
       "      <td>23.456389</td>\n",
       "      <td>25.160640</td>\n",
       "      <td>26.798628</td>\n",
       "    </tr>\n",
       "    <tr>\n",
       "      <th>...</th>\n",
       "      <td>...</td>\n",
       "      <td>...</td>\n",
       "      <td>...</td>\n",
       "      <td>...</td>\n",
       "      <td>...</td>\n",
       "      <td>...</td>\n",
       "      <td>...</td>\n",
       "      <td>...</td>\n",
       "      <td>...</td>\n",
       "      <td>...</td>\n",
       "      <td>...</td>\n",
       "      <td>...</td>\n",
       "      <td>...</td>\n",
       "      <td>...</td>\n",
       "      <td>...</td>\n",
       "      <td>...</td>\n",
       "      <td>...</td>\n",
       "      <td>...</td>\n",
       "      <td>...</td>\n",
       "      <td>...</td>\n",
       "      <td>...</td>\n",
       "    </tr>\n",
       "    <tr>\n",
       "      <th>127</th>\n",
       "      <td>18.884746</td>\n",
       "      <td>17.376455</td>\n",
       "      <td>16.050952</td>\n",
       "      <td>15.513441</td>\n",
       "      <td>17.844859</td>\n",
       "      <td>16.026751</td>\n",
       "      <td>14.089634</td>\n",
       "      <td>12.857213</td>\n",
       "      <td>13.565966</td>\n",
       "      <td>14.756534</td>\n",
       "      <td>...</td>\n",
       "      <td>14.419796</td>\n",
       "      <td>13.158582</td>\n",
       "      <td>13.601821</td>\n",
       "      <td>14.857927</td>\n",
       "      <td>16.400059</td>\n",
       "      <td>18.038213</td>\n",
       "      <td>15.676006</td>\n",
       "      <td>16.339165</td>\n",
       "      <td>17.687736</td>\n",
       "      <td>19.272494</td>\n",
       "    </tr>\n",
       "    <tr>\n",
       "      <th>128</th>\n",
       "      <td>18.507943</td>\n",
       "      <td>16.981797</td>\n",
       "      <td>15.641538</td>\n",
       "      <td>15.102797</td>\n",
       "      <td>17.500898</td>\n",
       "      <td>15.660263</td>\n",
       "      <td>13.702368</td>\n",
       "      <td>12.474689</td>\n",
       "      <td>13.195015</td>\n",
       "      <td>14.381402</td>\n",
       "      <td>...</td>\n",
       "      <td>13.884929</td>\n",
       "      <td>12.631497</td>\n",
       "      <td>13.094748</td>\n",
       "      <td>14.350195</td>\n",
       "      <td>15.886699</td>\n",
       "      <td>17.512706</td>\n",
       "      <td>15.043970</td>\n",
       "      <td>15.684505</td>\n",
       "      <td>17.026631</td>\n",
       "      <td>18.605317</td>\n",
       "    </tr>\n",
       "    <tr>\n",
       "      <th>129</th>\n",
       "      <td>18.403381</td>\n",
       "      <td>16.879805</td>\n",
       "      <td>15.537278</td>\n",
       "      <td>15.004871</td>\n",
       "      <td>17.383857</td>\n",
       "      <td>15.562786</td>\n",
       "      <td>13.614093</td>\n",
       "      <td>12.380865</td>\n",
       "      <td>13.122244</td>\n",
       "      <td>14.320604</td>\n",
       "      <td>...</td>\n",
       "      <td>13.798729</td>\n",
       "      <td>12.544160</td>\n",
       "      <td>13.038704</td>\n",
       "      <td>14.289590</td>\n",
       "      <td>15.832345</td>\n",
       "      <td>17.461468</td>\n",
       "      <td>14.979654</td>\n",
       "      <td>15.623428</td>\n",
       "      <td>16.980063</td>\n",
       "      <td>18.577581</td>\n",
       "    </tr>\n",
       "    <tr>\n",
       "      <th>130</th>\n",
       "      <td>18.914665</td>\n",
       "      <td>17.428339</td>\n",
       "      <td>16.134304</td>\n",
       "      <td>15.620854</td>\n",
       "      <td>17.860468</td>\n",
       "      <td>16.071381</td>\n",
       "      <td>14.171264</td>\n",
       "      <td>12.967229</td>\n",
       "      <td>13.610958</td>\n",
       "      <td>14.768214</td>\n",
       "      <td>...</td>\n",
       "      <td>14.404760</td>\n",
       "      <td>13.154577</td>\n",
       "      <td>13.581471</td>\n",
       "      <td>14.800923</td>\n",
       "      <td>16.303300</td>\n",
       "      <td>17.904713</td>\n",
       "      <td>15.649748</td>\n",
       "      <td>16.295305</td>\n",
       "      <td>17.616820</td>\n",
       "      <td>19.182438</td>\n",
       "    </tr>\n",
       "    <tr>\n",
       "      <th>131</th>\n",
       "      <td>18.886203</td>\n",
       "      <td>17.412658</td>\n",
       "      <td>16.134851</td>\n",
       "      <td>15.629908</td>\n",
       "      <td>17.852532</td>\n",
       "      <td>16.070313</td>\n",
       "      <td>14.179733</td>\n",
       "      <td>12.991831</td>\n",
       "      <td>13.619184</td>\n",
       "      <td>14.767073</td>\n",
       "      <td>...</td>\n",
       "      <td>14.458174</td>\n",
       "      <td>13.204017</td>\n",
       "      <td>13.646837</td>\n",
       "      <td>14.869789</td>\n",
       "      <td>16.369329</td>\n",
       "      <td>17.974823</td>\n",
       "      <td>15.727201</td>\n",
       "      <td>16.385017</td>\n",
       "      <td>17.697575</td>\n",
       "      <td>19.254867</td>\n",
       "    </tr>\n",
       "  </tbody>\n",
       "</table>\n",
       "<p>2640 rows × 80 columns</p>\n",
       "</div>"
      ],
      "text/plain": [
       "            0          1          2          3          4          5   \\\n",
       "0    24.704277  22.987331  21.258266  20.311675  27.028833  24.411226   \n",
       "1    25.328202  23.658986  21.945276  20.977384  27.918306  25.275622   \n",
       "2    24.186847  22.532038  20.860433  19.966992  26.637630  24.008625   \n",
       "3    23.809632  22.111871  20.414592  19.531865  25.947102  23.301017   \n",
       "4    24.489670  22.817459  21.125398  20.203400  26.848786  24.225216   \n",
       "..         ...        ...        ...        ...        ...        ...   \n",
       "127  18.884746  17.376455  16.050952  15.513441  17.844859  16.026751   \n",
       "128  18.507943  16.981797  15.641538  15.102797  17.500898  15.660263   \n",
       "129  18.403381  16.879805  15.537278  15.004871  17.383857  15.562786   \n",
       "130  18.914665  17.428339  16.134304  15.620854  17.860468  16.071381   \n",
       "131  18.886203  17.412658  16.134851  15.629908  17.852532  16.070313   \n",
       "\n",
       "            6          7          8          9   ...         70         71  \\\n",
       "0    21.759922  20.962155  17.206931  19.412249  ...  21.250146  20.586484   \n",
       "1    22.625037  21.827484  17.343523  19.502605  ...  21.930245  21.220622   \n",
       "2    21.381509  20.608466  16.622070  18.749095  ...  20.963926  20.277508   \n",
       "3    20.659152  19.857945  16.525044  18.645876  ...  20.389423  19.691396   \n",
       "4    21.604975  20.835183  16.964380  19.102633  ...  21.092329  20.402062   \n",
       "..         ...        ...        ...        ...  ...        ...        ...   \n",
       "127  14.089634  12.857213  13.565966  14.756534  ...  14.419796  13.158582   \n",
       "128  13.702368  12.474689  13.195015  14.381402  ...  13.884929  12.631497   \n",
       "129  13.614093  12.380865  13.122244  14.320604  ...  13.798729  12.544160   \n",
       "130  14.171264  12.967229  13.610958  14.768214  ...  14.404760  13.154577   \n",
       "131  14.179733  12.991831  13.619184  14.767073  ...  14.458174  13.204017   \n",
       "\n",
       "            72         73         74         75         76         77  \\\n",
       "0    20.419455  22.321419  24.280929  26.204838  22.419959  23.328695   \n",
       "1    21.368155  23.245079  25.202338  27.120472  23.468093  24.412196   \n",
       "2    20.478139  22.343140  24.319401  26.301764  22.598314  23.500431   \n",
       "3    19.757427  21.626787  23.640273  25.672468  21.849467  22.712839   \n",
       "4    20.512078  22.391121  24.372976  26.325102  22.528806  23.456389   \n",
       "..         ...        ...        ...        ...        ...        ...   \n",
       "127  13.601821  14.857927  16.400059  18.038213  15.676006  16.339165   \n",
       "128  13.094748  14.350195  15.886699  17.512706  15.043970  15.684505   \n",
       "129  13.038704  14.289590  15.832345  17.461468  14.979654  15.623428   \n",
       "130  13.581471  14.800923  16.303300  17.904713  15.649748  16.295305   \n",
       "131  13.646837  14.869789  16.369329  17.974823  15.727201  16.385017   \n",
       "\n",
       "            78         79  \n",
       "0    25.021044  26.684171  \n",
       "1    26.120263  27.751889  \n",
       "2    25.184281  26.822184  \n",
       "3    24.396980  26.058318  \n",
       "4    25.160640  26.798628  \n",
       "..         ...        ...  \n",
       "127  17.687736  19.272494  \n",
       "128  17.026631  18.605317  \n",
       "129  16.980063  18.577581  \n",
       "130  17.616820  19.182438  \n",
       "131  17.697575  19.254867  \n",
       "\n",
       "[2640 rows x 80 columns]"
      ]
     },
     "execution_count": 18,
     "metadata": {},
     "output_type": "execute_result"
    }
   ],
   "source": [
    "df_2"
   ]
  },
  {
   "cell_type": "markdown",
   "id": "73a07495-8b79-4e1d-a90d-27c4ca8d4bfa",
   "metadata": {},
   "source": [
    "### Entrenament del model Support Vector Machine"
   ]
  },
  {
   "cell_type": "code",
   "execution_count": 21,
   "id": "a3338008-1ea4-4127-aa12-d0bc00ec51dd",
   "metadata": {},
   "outputs": [
    {
     "name": "stdout",
     "output_type": "stream",
     "text": [
      "Mejores hiperparámetros: {'C': 10, 'gamma': 0.01, 'kernel': 'rbf'}\n"
     ]
    }
   ],
   "source": [
    "# Definir los parámetros a ajustar\n",
    "param_grid = {'C': [0.1, 1, 10, 100, 1000], 'gamma': [0.001, 0.01, 0.1, 1], 'kernel': ['linear', 'rbf', 'poly']}\n",
    "\n",
    "# Realizar la búsqueda en cuadrícula para encontrar la mejor combinación de hiperparámetros\n",
    "grid_search = GridSearchCV(SVC(), param_grid, cv=5)\n",
    "grid_search.fit(df_2, df_array_vocals.values.ravel())\n",
    "\n",
    "# Mostrar los mejores hiperparámetros encontrados\n",
    "print(\"Mejores hiperparámetros:\", grid_search.best_params_)"
   ]
  },
  {
   "cell_type": "code",
   "execution_count": 22,
   "id": "f6110b17-0b9d-4fde-b60c-38579b820b38",
   "metadata": {},
   "outputs": [
    {
     "name": "stdout",
     "output_type": "stream",
     "text": [
      "Accuracy: 0.9867424242424242\n"
     ]
    }
   ],
   "source": [
    "# Dividir los datos en conjuntos de entrenamiento y prueba\n",
    "X_train, X_test, y_train, y_test = train_test_split(df_2, df_array_vocals.values.ravel(), test_size=0.2, random_state=42)\n",
    "\n",
    "# Crear un clasificador SVM\n",
    "svm_classifier_2 = SVC(kernel='rbf', C=10, gamma=0.01)\n",
    "\n",
    "# Entrenar el clasificador\n",
    "svm_classifier_2.fit(X_train, y_train)\n",
    "\n",
    "# Predecir las etiquetas de clase para el conjunto de prueba\n",
    "y_pred = svm_classifier_2.predict(X_test)\n",
    "\n",
    "# Calcular la precisión del clasificador\n",
    "accuracy = accuracy_score(y_test, y_pred)\n",
    "print(\"Accuracy:\", accuracy)"
   ]
  },
  {
   "cell_type": "code",
   "execution_count": 23,
   "id": "4576901e-ea40-4ff7-86ac-f9b06575c4e6",
   "metadata": {},
   "outputs": [
    {
     "data": {
      "text/plain": [
       "<Axes: title={'center': 'Confusion Matrix SVM'}, xlabel='Predicted label', ylabel='True label'>"
      ]
     },
     "execution_count": 23,
     "metadata": {},
     "output_type": "execute_result"
    },
    {
     "data": {
      "image/png": "[encoded data removed]",
      "text/plain": [
       "<Figure size 640x480 with 2 Axes>"
      ]
     },
     "metadata": {},
     "output_type": "display_data"
    }
   ],
   "source": [
    "skplt.metrics.plot_confusion_matrix(\n",
    "    y_test, \n",
    "    y_pred, \n",
    "    normalize=True,\n",
    "    title='Confusion Matrix SVM')"
   ]
  },
  {
   "cell_type": "code",
   "execution_count": 24,
   "id": "08b8f007-687f-4ec8-9a31-8d457177478c",
   "metadata": {},
   "outputs": [
    {
     "data": {
      "text/plain": [
       "['model/svm/svm_classifier_eyes.joblib']"
      ]
     },
     "execution_count": 24,
     "metadata": {},
     "output_type": "execute_result"
    }
   ],
   "source": [
    "# Guardar el modelo\n",
    "dump(svm_classifier_2, 'models/svm/svm_classifier_eyes.joblib')"
   ]
  },
  {
   "cell_type": "code",
   "execution_count": 25,
   "id": "78e82be7-2eb5-4905-a06b-487c629c8a4e",
   "metadata": {},
   "outputs": [
    {
     "name": "stdout",
     "output_type": "stream",
     "text": [
      "Precisión de validación cruzada: 0.7628787878787878\n"
     ]
    }
   ],
   "source": [
    "# Realizar validación cruzada para evaluar el rendimiento del modelo SVM\n",
    "scores = cross_val_score(SVC(), df_2, df_array_vocals.values.ravel(), cv=5)\n",
    "print(\"Precisión de validación cruzada:\", scores.mean())"
   ]
  },
  {
   "cell_type": "markdown",
   "id": "f794d90f-cef1-4bc1-931e-8072332812cd",
   "metadata": {},
   "source": [
    "### Entrenament del model Random Forest"
   ]
  },
  {
   "cell_type": "code",
   "execution_count": 26,
   "id": "278e50f4-aece-431d-ae46-4141dc489a84",
   "metadata": {},
   "outputs": [
    {
     "name": "stdout",
     "output_type": "stream",
     "text": [
      "Accuracy: 0.9810606060606061\n"
     ]
    }
   ],
   "source": [
    "X_train, X_test, y_train, y_test = train_test_split(df_2, df_array_vocals.values.ravel(), test_size=0.2, random_state=42)\n",
    "\n",
    "rf_classifier_2 = RandomForestClassifier(n_estimators=1000, random_state=42)\n",
    "\n",
    "rf_classifier_2.fit(X_train, y_train)\n",
    "\n",
    "y_pred = rf_classifier_2.predict(X_test)\n",
    "\n",
    "accuracy = accuracy_score(y_test, y_pred)\n",
    "print(\"Accuracy:\", accuracy)"
   ]
  },
  {
   "cell_type": "code",
   "execution_count": 27,
   "id": "760fda8b-8250-4d38-be9c-4f1447e38fb9",
   "metadata": {},
   "outputs": [
    {
     "data": {
      "text/plain": [
       "<Axes: title={'center': 'Confusion Matrix Random Forest'}, xlabel='Predicted label', ylabel='True label'>"
      ]
     },
     "execution_count": 27,
     "metadata": {},
     "output_type": "execute_result"
    },
    {
     "data": {
      "image/png": "[encoded data removed]",
      "text/plain": [
       "<Figure size 640x480 with 2 Axes>"
      ]
     },
     "metadata": {},
     "output_type": "display_data"
    }
   ],
   "source": [
    "skplt.metrics.plot_confusion_matrix(\n",
    "    y_test, \n",
    "    y_pred, \n",
    "    normalize=True,\n",
    "    title='Confusion Matrix Random Forest')"
   ]
  },
  {
   "cell_type": "code",
   "execution_count": 28,
   "id": "5a086c0c-3fc4-4427-965f-0d95656827e4",
   "metadata": {},
   "outputs": [
    {
     "data": {
      "text/plain": [
       "['model/rf/rf_classifier_eyes.joblib']"
      ]
     },
     "execution_count": 28,
     "metadata": {},
     "output_type": "execute_result"
    }
   ],
   "source": [
    "# Guardar el modelo\n",
    "dump(rf_classifier_2, 'models/rf/rf_classifier_eyes.joblib')"
   ]
  },
  {
   "cell_type": "code",
   "execution_count": null,
   "id": "2e78e356-e098-47d5-831b-a0fa09f9700e",
   "metadata": {},
   "outputs": [],
   "source": []
  }
 ],
 "metadata": {
  "kernelspec": {
   "display_name": "Python 3 (ipykernel)",
   "language": "python",
   "name": "python3"
  },
  "language_info": {
   "codemirror_mode": {
    "name": "ipython",
    "version": 3
   },
   "file_extension": ".py",
   "mimetype": "text/x-python",
   "name": "python",
   "nbconvert_exporter": "python",
   "pygments_lexer": "ipython3",
   "version": "3.11.7"
  }
 },
 "nbformat": 4,
 "nbformat_minor": 5
}
